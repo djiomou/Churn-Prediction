{
  "nbformat": 4,
  "nbformat_minor": 0,
  "metadata": {
    "colab": {
      "name": "Churn Prediction",
      "provenance": [],
      "collapsed_sections": []
    },
    "kernelspec": {
      "name": "python3",
      "display_name": "Python 3"
    },
    "language_info": {
      "name": "python"
    },
    "widgets": {
      "application/vnd.jupyter.widget-state+json": {
        "d633f4fdf5e64a6aaf1dbb0444c7e738": {
          "model_module": "@jupyter-widgets/controls",
          "model_name": "VBoxModel",
          "state": {
            "_view_name": "VBoxView",
            "_dom_classes": [
              "widget-interact"
            ],
            "_model_name": "VBoxModel",
            "_view_module": "@jupyter-widgets/controls",
            "_model_module_version": "1.5.0",
            "_view_count": null,
            "_view_module_version": "1.5.0",
            "box_style": "",
            "layout": "IPY_MODEL_86350444e58d48c28320961be48c8748",
            "_model_module": "@jupyter-widgets/controls",
            "children": [
              "IPY_MODEL_bb17cf1f137d4b03b262d8e769c650b0",
              "IPY_MODEL_dd6fd56f34ce4fe08cb95741665f3af2"
            ]
          }
        },
        "86350444e58d48c28320961be48c8748": {
          "model_module": "@jupyter-widgets/base",
          "model_name": "LayoutModel",
          "state": {
            "_view_name": "LayoutView",
            "grid_template_rows": null,
            "right": null,
            "justify_content": null,
            "_view_module": "@jupyter-widgets/base",
            "overflow": null,
            "_model_module_version": "1.2.0",
            "_view_count": null,
            "flex_flow": null,
            "width": null,
            "min_width": null,
            "border": null,
            "align_items": null,
            "bottom": null,
            "_model_module": "@jupyter-widgets/base",
            "top": null,
            "grid_column": null,
            "overflow_y": null,
            "overflow_x": null,
            "grid_auto_flow": null,
            "grid_area": null,
            "grid_template_columns": null,
            "flex": null,
            "_model_name": "LayoutModel",
            "justify_items": null,
            "grid_row": null,
            "max_height": null,
            "align_content": null,
            "visibility": null,
            "align_self": null,
            "height": null,
            "min_height": null,
            "padding": null,
            "grid_auto_rows": null,
            "grid_gap": null,
            "max_width": null,
            "order": null,
            "_view_module_version": "1.2.0",
            "grid_template_areas": null,
            "object_position": null,
            "object_fit": null,
            "grid_auto_columns": null,
            "margin": null,
            "display": null,
            "left": null
          }
        },
        "bb17cf1f137d4b03b262d8e769c650b0": {
          "model_module": "@jupyter-widgets/controls",
          "model_name": "DropdownModel",
          "state": {
            "_options_labels": [
              "tenure",
              "MonthlyCharges",
              "TotalCharges"
            ],
            "_view_name": "DropdownView",
            "style": "IPY_MODEL_6974740f50654025b76f81b217603394",
            "_dom_classes": [],
            "description": "b",
            "_model_name": "DropdownModel",
            "index": 0,
            "_view_module": "@jupyter-widgets/controls",
            "_model_module_version": "1.5.0",
            "_view_count": null,
            "disabled": false,
            "_view_module_version": "1.5.0",
            "description_tooltip": null,
            "_model_module": "@jupyter-widgets/controls",
            "layout": "IPY_MODEL_ea9a07970c7f47ed9ee0354456f34d4a"
          }
        },
        "dd6fd56f34ce4fe08cb95741665f3af2": {
          "model_module": "@jupyter-widgets/output",
          "model_name": "OutputModel",
          "state": {
            "_view_name": "OutputView",
            "msg_id": "",
            "_dom_classes": [],
            "_model_name": "OutputModel",
            "outputs": [
              {
                "output_type": "display_data",
                "metadata": {
                  "tags": [],
                  "needs_background": "light"
                },
                "image/png": "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\n",
                "text/plain": "<Figure size 432x288 with 1 Axes>"
              }
            ],
            "_view_module": "@jupyter-widgets/output",
            "_model_module_version": "1.0.0",
            "_view_count": null,
            "_view_module_version": "1.0.0",
            "layout": "IPY_MODEL_d58def35d6e148b69466d763d26fea89",
            "_model_module": "@jupyter-widgets/output"
          }
        },
        "6974740f50654025b76f81b217603394": {
          "model_module": "@jupyter-widgets/controls",
          "model_name": "DescriptionStyleModel",
          "state": {
            "_view_name": "StyleView",
            "_model_name": "DescriptionStyleModel",
            "description_width": "",
            "_view_module": "@jupyter-widgets/base",
            "_model_module_version": "1.5.0",
            "_view_count": null,
            "_view_module_version": "1.2.0",
            "_model_module": "@jupyter-widgets/controls"
          }
        },
        "ea9a07970c7f47ed9ee0354456f34d4a": {
          "model_module": "@jupyter-widgets/base",
          "model_name": "LayoutModel",
          "state": {
            "_view_name": "LayoutView",
            "grid_template_rows": null,
            "right": null,
            "justify_content": null,
            "_view_module": "@jupyter-widgets/base",
            "overflow": null,
            "_model_module_version": "1.2.0",
            "_view_count": null,
            "flex_flow": null,
            "width": null,
            "min_width": null,
            "border": null,
            "align_items": null,
            "bottom": null,
            "_model_module": "@jupyter-widgets/base",
            "top": null,
            "grid_column": null,
            "overflow_y": null,
            "overflow_x": null,
            "grid_auto_flow": null,
            "grid_area": null,
            "grid_template_columns": null,
            "flex": null,
            "_model_name": "LayoutModel",
            "justify_items": null,
            "grid_row": null,
            "max_height": null,
            "align_content": null,
            "visibility": null,
            "align_self": null,
            "height": null,
            "min_height": null,
            "padding": null,
            "grid_auto_rows": null,
            "grid_gap": null,
            "max_width": null,
            "order": null,
            "_view_module_version": "1.2.0",
            "grid_template_areas": null,
            "object_position": null,
            "object_fit": null,
            "grid_auto_columns": null,
            "margin": null,
            "display": null,
            "left": null
          }
        },
        "d58def35d6e148b69466d763d26fea89": {
          "model_module": "@jupyter-widgets/base",
          "model_name": "LayoutModel",
          "state": {
            "_view_name": "LayoutView",
            "grid_template_rows": null,
            "right": null,
            "justify_content": null,
            "_view_module": "@jupyter-widgets/base",
            "overflow": null,
            "_model_module_version": "1.2.0",
            "_view_count": null,
            "flex_flow": null,
            "width": null,
            "min_width": null,
            "border": null,
            "align_items": null,
            "bottom": null,
            "_model_module": "@jupyter-widgets/base",
            "top": null,
            "grid_column": null,
            "overflow_y": null,
            "overflow_x": null,
            "grid_auto_flow": null,
            "grid_area": null,
            "grid_template_columns": null,
            "flex": null,
            "_model_name": "LayoutModel",
            "justify_items": null,
            "grid_row": null,
            "max_height": null,
            "align_content": null,
            "visibility": null,
            "align_self": null,
            "height": null,
            "min_height": null,
            "padding": null,
            "grid_auto_rows": null,
            "grid_gap": null,
            "max_width": null,
            "order": null,
            "_view_module_version": "1.2.0",
            "grid_template_areas": null,
            "object_position": null,
            "object_fit": null,
            "grid_auto_columns": null,
            "margin": null,
            "display": null,
            "left": null
          }
        },
        "77364586c0164a0599973861082341f8": {
          "model_module": "@jupyter-widgets/controls",
          "model_name": "VBoxModel",
          "state": {
            "_view_name": "VBoxView",
            "_dom_classes": [
              "widget-interact"
            ],
            "_model_name": "VBoxModel",
            "_view_module": "@jupyter-widgets/controls",
            "_model_module_version": "1.5.0",
            "_view_count": null,
            "_view_module_version": "1.5.0",
            "box_style": "",
            "layout": "IPY_MODEL_a8157e210a534965a1574f87c280cd9c",
            "_model_module": "@jupyter-widgets/controls",
            "children": [
              "IPY_MODEL_8875c6062004408b97743995ce7d81f7",
              "IPY_MODEL_99212ee048a24b59aefebcb5e95b5b6c"
            ]
          }
        },
        "a8157e210a534965a1574f87c280cd9c": {
          "model_module": "@jupyter-widgets/base",
          "model_name": "LayoutModel",
          "state": {
            "_view_name": "LayoutView",
            "grid_template_rows": null,
            "right": null,
            "justify_content": null,
            "_view_module": "@jupyter-widgets/base",
            "overflow": null,
            "_model_module_version": "1.2.0",
            "_view_count": null,
            "flex_flow": null,
            "width": null,
            "min_width": null,
            "border": null,
            "align_items": null,
            "bottom": null,
            "_model_module": "@jupyter-widgets/base",
            "top": null,
            "grid_column": null,
            "overflow_y": null,
            "overflow_x": null,
            "grid_auto_flow": null,
            "grid_area": null,
            "grid_template_columns": null,
            "flex": null,
            "_model_name": "LayoutModel",
            "justify_items": null,
            "grid_row": null,
            "max_height": null,
            "align_content": null,
            "visibility": null,
            "align_self": null,
            "height": null,
            "min_height": null,
            "padding": null,
            "grid_auto_rows": null,
            "grid_gap": null,
            "max_width": null,
            "order": null,
            "_view_module_version": "1.2.0",
            "grid_template_areas": null,
            "object_position": null,
            "object_fit": null,
            "grid_auto_columns": null,
            "margin": null,
            "display": null,
            "left": null
          }
        },
        "8875c6062004408b97743995ce7d81f7": {
          "model_module": "@jupyter-widgets/controls",
          "model_name": "DropdownModel",
          "state": {
            "_options_labels": [
              "gender",
              "SeniorCitizen",
              "Partner",
              "Dependents",
              "PhoneService",
              "MultipleLines",
              "InternetService",
              "OnlineSecurity",
              "OnlineBackup",
              "DeviceProtection",
              "TechSupport",
              "StreamingTV",
              "StreamingMovies",
              "Contract",
              "PaperlessBilling",
              "PaymentMethod",
              "Churn"
            ],
            "_view_name": "DropdownView",
            "style": "IPY_MODEL_85ae08e161944a89b54a68365020db80",
            "_dom_classes": [],
            "description": "a",
            "_model_name": "DropdownModel",
            "index": 0,
            "_view_module": "@jupyter-widgets/controls",
            "_model_module_version": "1.5.0",
            "_view_count": null,
            "disabled": false,
            "_view_module_version": "1.5.0",
            "description_tooltip": null,
            "_model_module": "@jupyter-widgets/controls",
            "layout": "IPY_MODEL_080c93f67d9145afb2a406628704be3e"
          }
        },
        "99212ee048a24b59aefebcb5e95b5b6c": {
          "model_module": "@jupyter-widgets/output",
          "model_name": "OutputModel",
          "state": {
            "_view_name": "OutputView",
            "msg_id": "",
            "_dom_classes": [],
            "_model_name": "OutputModel",
            "outputs": [
              {
                "output_type": "display_data",
                "metadata": {
                  "tags": []
                },
                "image/png": "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\n",
                "text/plain": "<Figure size 1440x288 with 1 Axes>"
              }
            ],
            "_view_module": "@jupyter-widgets/output",
            "_model_module_version": "1.0.0",
            "_view_count": null,
            "_view_module_version": "1.0.0",
            "layout": "IPY_MODEL_427f7d379c31412fb0eb93d263792dd2",
            "_model_module": "@jupyter-widgets/output"
          }
        },
        "85ae08e161944a89b54a68365020db80": {
          "model_module": "@jupyter-widgets/controls",
          "model_name": "DescriptionStyleModel",
          "state": {
            "_view_name": "StyleView",
            "_model_name": "DescriptionStyleModel",
            "description_width": "",
            "_view_module": "@jupyter-widgets/base",
            "_model_module_version": "1.5.0",
            "_view_count": null,
            "_view_module_version": "1.2.0",
            "_model_module": "@jupyter-widgets/controls"
          }
        },
        "080c93f67d9145afb2a406628704be3e": {
          "model_module": "@jupyter-widgets/base",
          "model_name": "LayoutModel",
          "state": {
            "_view_name": "LayoutView",
            "grid_template_rows": null,
            "right": null,
            "justify_content": null,
            "_view_module": "@jupyter-widgets/base",
            "overflow": null,
            "_model_module_version": "1.2.0",
            "_view_count": null,
            "flex_flow": null,
            "width": null,
            "min_width": null,
            "border": null,
            "align_items": null,
            "bottom": null,
            "_model_module": "@jupyter-widgets/base",
            "top": null,
            "grid_column": null,
            "overflow_y": null,
            "overflow_x": null,
            "grid_auto_flow": null,
            "grid_area": null,
            "grid_template_columns": null,
            "flex": null,
            "_model_name": "LayoutModel",
            "justify_items": null,
            "grid_row": null,
            "max_height": null,
            "align_content": null,
            "visibility": null,
            "align_self": null,
            "height": null,
            "min_height": null,
            "padding": null,
            "grid_auto_rows": null,
            "grid_gap": null,
            "max_width": null,
            "order": null,
            "_view_module_version": "1.2.0",
            "grid_template_areas": null,
            "object_position": null,
            "object_fit": null,
            "grid_auto_columns": null,
            "margin": null,
            "display": null,
            "left": null
          }
        },
        "427f7d379c31412fb0eb93d263792dd2": {
          "model_module": "@jupyter-widgets/base",
          "model_name": "LayoutModel",
          "state": {
            "_view_name": "LayoutView",
            "grid_template_rows": null,
            "right": null,
            "justify_content": null,
            "_view_module": "@jupyter-widgets/base",
            "overflow": null,
            "_model_module_version": "1.2.0",
            "_view_count": null,
            "flex_flow": null,
            "width": null,
            "min_width": null,
            "border": null,
            "align_items": null,
            "bottom": null,
            "_model_module": "@jupyter-widgets/base",
            "top": null,
            "grid_column": null,
            "overflow_y": null,
            "overflow_x": null,
            "grid_auto_flow": null,
            "grid_area": null,
            "grid_template_columns": null,
            "flex": null,
            "_model_name": "LayoutModel",
            "justify_items": null,
            "grid_row": null,
            "max_height": null,
            "align_content": null,
            "visibility": null,
            "align_self": null,
            "height": null,
            "min_height": null,
            "padding": null,
            "grid_auto_rows": null,
            "grid_gap": null,
            "max_width": null,
            "order": null,
            "_view_module_version": "1.2.0",
            "grid_template_areas": null,
            "object_position": null,
            "object_fit": null,
            "grid_auto_columns": null,
            "margin": null,
            "display": null,
            "left": null
          }
        }
      }
    }
  },
  "cells": [
    {
      "cell_type": "markdown",
      "metadata": {
        "id": "cf9pjPpnUrVs"
      },
      "source": [
        "# Prédiction de désabonnement des clients d’une entreprise (Customers Churn Prediction)\n",
        "\n",
        "\n",
        "\n",
        "\n"
      ]
    },
    {
      "cell_type": "markdown",
      "metadata": {
        "id": "WxZ1rwqSdZxi"
      },
      "source": [
        "## Problèmatique et enjeu\n",
        "- La perte de clientèle, également appelée attrition de la clientèle, se produit lorsque des clients cessent de faire affaire avec une entreprise. \n",
        "- Les entreprises sont intéressées par l'identification de segments de ces clients car le prix d'acquisition d'un nouveau client est généralement plus élevé que celui de la rétention de l'ancien. \n",
        "- Connaître un segment de clients à risque de désabonnement, permettrait à une entreprise d'engager de manière proactive des offres spéciales pour fidéliser ce segment et éviter de les perdre. \n",
        "\n"
      ]
    },
    {
      "cell_type": "markdown",
      "metadata": {
        "id": "-L0bFXTzglo6"
      },
      "source": [
        "## Objectif :\n",
        "- Il s'agira de créer un modèle simple de prédiction du taux de désabonnement des clients d'une compagnie bancaire. \n",
        "- Nous utiliserons deux algorithmes simples  de classification modéliser les clients désabonnés, \n",
        "- Evaluation du modèle de prédiction"
      ]
    },
    {
      "cell_type": "markdown",
      "metadata": {
        "id": "VMvlohNdp8Cf"
      },
      "source": [
        "## Libraries à utilisées\n",
        "- Pandas et Numpy pour l'analyse et traitement des données et les calaculs scientifiques respectivement.\n",
        "-Seaborn et Matplotlib pour la visualisation\n",
        "- Plusieurs fonctions de la librairie Ipywidgets pour des graphiques interactif\n",
        "- différentes fonctions de la librairie sklearn pour: \n",
        " - la normalisation des données\n",
        " - diviser les données en ensembles train,validation et test.\n",
        " - réechantillonnage des données\n",
        " - modéliser les données\n",
        " - selectionner des variables\n",
        " - Chercher les meilleurs paramètres\n",
        " -etc\n"
      ]
    },
    {
      "cell_type": "code",
      "metadata": {
        "id": "Lu0QG_Y1gk1-"
      },
      "source": [
        "# Importation des librairies\n",
        "import pandas as pd\n",
        "import numpy as np\n",
        "import seaborn as sns\n",
        "import matplotlib.pyplot as plt\n",
        "import ipywidgets as wget\n",
        "from ipywidgets import interact, interactive,fixed,interact_manual\n",
        "from sklearn.preprocessing import MinMaxScaler\n",
        "from sklearn.model_selection import train_test_split,GridSearchCV\n",
        "from sklearn.utils import resample\n",
        "from sklearn.linear_model import LogisticRegression\n",
        "from sklearn.pipeline import FeatureUnion, Pipeline\n",
        "from sklearn.base import BaseEstimator, TransformerMixin\n",
        "from sklearn import tree\n",
        "from sklearn.metrics import classification_report\n",
        "from sklearn.preprocessing import LabelEncoder\n",
        "from sklearn.preprocessing import OneHotEncoder"
      ],
      "execution_count": 50,
      "outputs": []
    },
    {
      "cell_type": "markdown",
      "metadata": {
        "id": "sqaSn505dqDm"
      },
      "source": [
        "# Présentation et importation des données\n",
        "- Les donnnées utilisées sont celles d'une compagnie de telécommunication récupérées sur kaggle.\n",
        "- Chaque ligne représente un client, chaque colonne contient les attributs du client décrits dans la colonne Métadonnées.\n",
        "- Les données brutes contiennent 7043 lignes (clients) et 21 colonnes (caractéristiques).\n",
        "\n",
        "- L'ensemble de données comprend des informations sur :\n",
        "\n",
        " - Les clients qui sont partis au cours du dernier mois - la colonne est appelée Churn. C'est notre cible.\n",
        " - Les services auxquels chaque client s'est abonné : téléphone, lignes multiples, Internet, sécurité en ligne, sauvegarde en ligne, protection des appareils, assistance technique, et streaming TV et films.\n",
        " - Informations sur le compte du client - depuis combien de temps il est client, contrat, mode de paiement, facturation électronique, frais mensuels et total des frais.\n",
        " - Informations démographiques sur les clients - sexe, tranche d'âge, et s'ils ont des partenaires et des personnes à charge.\n"
      ]
    },
    {
      "cell_type": "code",
      "metadata": {
        "id": "HU6NjtV6uxrw",
        "colab": {
          "base_uri": "https://localhost:8080/"
        },
        "outputId": "18d0eb0f-6da2-47e2-863e-4a3e3be2a5ed"
      },
      "source": [
        "# Importation des données\n",
        "churn_data = pd.read_csv('Telco-Customer-Churn.csv')\n",
        "print(f\"les données brutes ont effectivement {churn_data.shape[0]} lignes et {churn_data.shape[1]} variables\")"
      ],
      "execution_count": 2,
      "outputs": [
        {
          "output_type": "stream",
          "text": [
            "les données brutes ont effectivement 7043 lignes et 21 variables\n"
          ],
          "name": "stdout"
        }
      ]
    },
    {
      "cell_type": "markdown",
      "metadata": {
        "id": "WB3QoSjInAzB"
      },
      "source": [
        "# Analyse Exploratoire des données\n",
        "Nous allons ici scruter les données afin de mieux les comprendre. Ceci à travers : \n",
        " - Une analyse générale.\n",
        " - Une analyse des distributions.\n",
        "\n",
        "\n",
        "\n",
        "\n"
      ]
    },
    {
      "cell_type": "markdown",
      "metadata": {
        "id": "lehsKFj7HIzK"
      },
      "source": [
        "## 1. Analyse générale\n"
      ]
    },
    {
      "cell_type": "code",
      "metadata": {
        "colab": {
          "base_uri": "https://localhost:8080/",
          "height": 301
        },
        "id": "D42RTexC0Wpm",
        "outputId": "8a5e417e-e7b2-4156-c54f-9ef85c05506e"
      },
      "source": [
        "#affichage partiel des données\n",
        "churn_data.head()"
      ],
      "execution_count": 3,
      "outputs": [
        {
          "output_type": "execute_result",
          "data": {
            "text/html": [
              "<div>\n",
              "<style scoped>\n",
              "    .dataframe tbody tr th:only-of-type {\n",
              "        vertical-align: middle;\n",
              "    }\n",
              "\n",
              "    .dataframe tbody tr th {\n",
              "        vertical-align: top;\n",
              "    }\n",
              "\n",
              "    .dataframe thead th {\n",
              "        text-align: right;\n",
              "    }\n",
              "</style>\n",
              "<table border=\"1\" class=\"dataframe\">\n",
              "  <thead>\n",
              "    <tr style=\"text-align: right;\">\n",
              "      <th></th>\n",
              "      <th>customerID</th>\n",
              "      <th>gender</th>\n",
              "      <th>SeniorCitizen</th>\n",
              "      <th>Partner</th>\n",
              "      <th>Dependents</th>\n",
              "      <th>tenure</th>\n",
              "      <th>PhoneService</th>\n",
              "      <th>MultipleLines</th>\n",
              "      <th>InternetService</th>\n",
              "      <th>OnlineSecurity</th>\n",
              "      <th>OnlineBackup</th>\n",
              "      <th>DeviceProtection</th>\n",
              "      <th>TechSupport</th>\n",
              "      <th>StreamingTV</th>\n",
              "      <th>StreamingMovies</th>\n",
              "      <th>Contract</th>\n",
              "      <th>PaperlessBilling</th>\n",
              "      <th>PaymentMethod</th>\n",
              "      <th>MonthlyCharges</th>\n",
              "      <th>TotalCharges</th>\n",
              "      <th>Churn</th>\n",
              "    </tr>\n",
              "  </thead>\n",
              "  <tbody>\n",
              "    <tr>\n",
              "      <th>0</th>\n",
              "      <td>7590-VHVEG</td>\n",
              "      <td>Female</td>\n",
              "      <td>0</td>\n",
              "      <td>Yes</td>\n",
              "      <td>No</td>\n",
              "      <td>1</td>\n",
              "      <td>No</td>\n",
              "      <td>No phone service</td>\n",
              "      <td>DSL</td>\n",
              "      <td>No</td>\n",
              "      <td>Yes</td>\n",
              "      <td>No</td>\n",
              "      <td>No</td>\n",
              "      <td>No</td>\n",
              "      <td>No</td>\n",
              "      <td>Month-to-month</td>\n",
              "      <td>Yes</td>\n",
              "      <td>Electronic check</td>\n",
              "      <td>29.85</td>\n",
              "      <td>29.85</td>\n",
              "      <td>No</td>\n",
              "    </tr>\n",
              "    <tr>\n",
              "      <th>1</th>\n",
              "      <td>5575-GNVDE</td>\n",
              "      <td>Male</td>\n",
              "      <td>0</td>\n",
              "      <td>No</td>\n",
              "      <td>No</td>\n",
              "      <td>34</td>\n",
              "      <td>Yes</td>\n",
              "      <td>No</td>\n",
              "      <td>DSL</td>\n",
              "      <td>Yes</td>\n",
              "      <td>No</td>\n",
              "      <td>Yes</td>\n",
              "      <td>No</td>\n",
              "      <td>No</td>\n",
              "      <td>No</td>\n",
              "      <td>One year</td>\n",
              "      <td>No</td>\n",
              "      <td>Mailed check</td>\n",
              "      <td>56.95</td>\n",
              "      <td>1889.5</td>\n",
              "      <td>No</td>\n",
              "    </tr>\n",
              "    <tr>\n",
              "      <th>2</th>\n",
              "      <td>3668-QPYBK</td>\n",
              "      <td>Male</td>\n",
              "      <td>0</td>\n",
              "      <td>No</td>\n",
              "      <td>No</td>\n",
              "      <td>2</td>\n",
              "      <td>Yes</td>\n",
              "      <td>No</td>\n",
              "      <td>DSL</td>\n",
              "      <td>Yes</td>\n",
              "      <td>Yes</td>\n",
              "      <td>No</td>\n",
              "      <td>No</td>\n",
              "      <td>No</td>\n",
              "      <td>No</td>\n",
              "      <td>Month-to-month</td>\n",
              "      <td>Yes</td>\n",
              "      <td>Mailed check</td>\n",
              "      <td>53.85</td>\n",
              "      <td>108.15</td>\n",
              "      <td>Yes</td>\n",
              "    </tr>\n",
              "    <tr>\n",
              "      <th>3</th>\n",
              "      <td>7795-CFOCW</td>\n",
              "      <td>Male</td>\n",
              "      <td>0</td>\n",
              "      <td>No</td>\n",
              "      <td>No</td>\n",
              "      <td>45</td>\n",
              "      <td>No</td>\n",
              "      <td>No phone service</td>\n",
              "      <td>DSL</td>\n",
              "      <td>Yes</td>\n",
              "      <td>No</td>\n",
              "      <td>Yes</td>\n",
              "      <td>Yes</td>\n",
              "      <td>No</td>\n",
              "      <td>No</td>\n",
              "      <td>One year</td>\n",
              "      <td>No</td>\n",
              "      <td>Bank transfer (automatic)</td>\n",
              "      <td>42.30</td>\n",
              "      <td>1840.75</td>\n",
              "      <td>No</td>\n",
              "    </tr>\n",
              "    <tr>\n",
              "      <th>4</th>\n",
              "      <td>9237-HQITU</td>\n",
              "      <td>Female</td>\n",
              "      <td>0</td>\n",
              "      <td>No</td>\n",
              "      <td>No</td>\n",
              "      <td>2</td>\n",
              "      <td>Yes</td>\n",
              "      <td>No</td>\n",
              "      <td>Fiber optic</td>\n",
              "      <td>No</td>\n",
              "      <td>No</td>\n",
              "      <td>No</td>\n",
              "      <td>No</td>\n",
              "      <td>No</td>\n",
              "      <td>No</td>\n",
              "      <td>Month-to-month</td>\n",
              "      <td>Yes</td>\n",
              "      <td>Electronic check</td>\n",
              "      <td>70.70</td>\n",
              "      <td>151.65</td>\n",
              "      <td>Yes</td>\n",
              "    </tr>\n",
              "  </tbody>\n",
              "</table>\n",
              "</div>"
            ],
            "text/plain": [
              "   customerID  gender  SeniorCitizen  ... MonthlyCharges TotalCharges  Churn\n",
              "0  7590-VHVEG  Female              0  ...          29.85        29.85     No\n",
              "1  5575-GNVDE    Male              0  ...          56.95       1889.5     No\n",
              "2  3668-QPYBK    Male              0  ...          53.85       108.15    Yes\n",
              "3  7795-CFOCW    Male              0  ...          42.30      1840.75     No\n",
              "4  9237-HQITU  Female              0  ...          70.70       151.65    Yes\n",
              "\n",
              "[5 rows x 21 columns]"
            ]
          },
          "metadata": {
            "tags": []
          },
          "execution_count": 3
        }
      ]
    },
    {
      "cell_type": "markdown",
      "metadata": {
        "id": "gFtBGSWxr3XK"
      },
      "source": [
        "La variable cible,  ***Churn***  prend deux valeurs : *Yes* (le client s'est désabonné) et *No* (le client ne s'est pas désabonné)."
      ]
    },
    {
      "cell_type": "code",
      "metadata": {
        "colab": {
          "base_uri": "https://localhost:8080/"
        },
        "id": "VXXd9BN5gtXm",
        "outputId": "1c9b109f-46ac-4598-b0a3-639a486ce4e8"
      },
      "source": [
        "# informations les variables\n",
        "churn_data.info()"
      ],
      "execution_count": 4,
      "outputs": [
        {
          "output_type": "stream",
          "text": [
            "<class 'pandas.core.frame.DataFrame'>\n",
            "RangeIndex: 7043 entries, 0 to 7042\n",
            "Data columns (total 21 columns):\n",
            " #   Column            Non-Null Count  Dtype  \n",
            "---  ------            --------------  -----  \n",
            " 0   customerID        7043 non-null   object \n",
            " 1   gender            7043 non-null   object \n",
            " 2   SeniorCitizen     7043 non-null   int64  \n",
            " 3   Partner           7043 non-null   object \n",
            " 4   Dependents        7043 non-null   object \n",
            " 5   tenure            7043 non-null   int64  \n",
            " 6   PhoneService      7043 non-null   object \n",
            " 7   MultipleLines     7043 non-null   object \n",
            " 8   InternetService   7043 non-null   object \n",
            " 9   OnlineSecurity    7043 non-null   object \n",
            " 10  OnlineBackup      7043 non-null   object \n",
            " 11  DeviceProtection  7043 non-null   object \n",
            " 12  TechSupport       7043 non-null   object \n",
            " 13  StreamingTV       7043 non-null   object \n",
            " 14  StreamingMovies   7043 non-null   object \n",
            " 15  Contract          7043 non-null   object \n",
            " 16  PaperlessBilling  7043 non-null   object \n",
            " 17  PaymentMethod     7043 non-null   object \n",
            " 18  MonthlyCharges    7043 non-null   float64\n",
            " 19  TotalCharges      7043 non-null   object \n",
            " 20  Churn             7043 non-null   object \n",
            "dtypes: float64(1), int64(2), object(18)\n",
            "memory usage: 1.1+ MB\n"
          ],
          "name": "stdout"
        }
      ]
    },
    {
      "cell_type": "markdown",
      "metadata": {
        "id": "AFO9M7IB0_bo"
      },
      "source": [
        "- Il y'a deux types de variables dans l'ensemble de données : catégorielles (deux valeurs ou plus et sans ordre) et numériques. \n",
        "- Il y'a apriori pas de données manquantes. La vérification suit en dessous.\n",
        "- La plupart des noms des variables(\"features\") sont explicites, à l'exception de :\n",
        " - **Partner** : si le client a un partenaire ou non (Oui, Non),\n",
        " - **Dependents** : si le client a des personnes à charge ou non (Oui, Non),\n",
        " - **OnlineBackup** : si le client a une sauvegarde en ligne ou non (Oui, Non, Pas de service internet),\n",
        " - **tenure** : nombre de mois pendant lesquels le client est resté dans l'entreprise,\n",
        " - **MonthlyCharges** : le montant facturé au client chaque mois,\n",
        " - **TotalCharges** : le montant total facturé au client.\n",
        "Il y a 7032 clients dans l'ensemble de données et 19 caractéristiques sans customerID (non informatif) et colonne Churn (variable cible). \n",
        "- La variable **TotalCharges** qui est numérique comme on le voit dans le tableau du dessus, est enregistrée dans les données comme une variable de type \"objet\". Il va falloir la transformer en type \"float\"."
      ]
    },
    {
      "cell_type": "code",
      "metadata": {
        "colab": {
          "base_uri": "https://localhost:8080/"
        },
        "id": "laKd_TtIC8hK",
        "outputId": "7f8aedfe-6263-4a9d-919b-d36f3c51990e"
      },
      "source": [
        "# Valeurs manquantes\n",
        "churn_data.isna().sum()"
      ],
      "execution_count": 5,
      "outputs": [
        {
          "output_type": "execute_result",
          "data": {
            "text/plain": [
              "customerID          0\n",
              "gender              0\n",
              "SeniorCitizen       0\n",
              "Partner             0\n",
              "Dependents          0\n",
              "tenure              0\n",
              "PhoneService        0\n",
              "MultipleLines       0\n",
              "InternetService     0\n",
              "OnlineSecurity      0\n",
              "OnlineBackup        0\n",
              "DeviceProtection    0\n",
              "TechSupport         0\n",
              "StreamingTV         0\n",
              "StreamingMovies     0\n",
              "Contract            0\n",
              "PaperlessBilling    0\n",
              "PaymentMethod       0\n",
              "MonthlyCharges      0\n",
              "TotalCharges        0\n",
              "Churn               0\n",
              "dtype: int64"
            ]
          },
          "metadata": {
            "tags": []
          },
          "execution_count": 5
        }
      ]
    },
    {
      "cell_type": "markdown",
      "metadata": {
        "id": "ni-JoaAYDJQM"
      },
      "source": [
        "- Aucune valeurs manquantes\n",
        "- Une revérification sera faite après le traitement de la variable **TotalCharges**."
      ]
    },
    {
      "cell_type": "code",
      "metadata": {
        "colab": {
          "base_uri": "https://localhost:8080/"
        },
        "id": "-bQSCjNJ1_6-",
        "outputId": "5ec75606-2acc-45ca-e0f1-2481e4e9d847"
      },
      "source": [
        "# Décomptes des valeurs unique par variables\n",
        "churn_data.nunique()"
      ],
      "execution_count": 6,
      "outputs": [
        {
          "output_type": "execute_result",
          "data": {
            "text/plain": [
              "customerID          7043\n",
              "gender                 2\n",
              "SeniorCitizen          2\n",
              "Partner                2\n",
              "Dependents             2\n",
              "tenure                73\n",
              "PhoneService           2\n",
              "MultipleLines          3\n",
              "InternetService        3\n",
              "OnlineSecurity         3\n",
              "OnlineBackup           3\n",
              "DeviceProtection       3\n",
              "TechSupport            3\n",
              "StreamingTV            3\n",
              "StreamingMovies        3\n",
              "Contract               3\n",
              "PaperlessBilling       2\n",
              "PaymentMethod          4\n",
              "MonthlyCharges      1585\n",
              "TotalCharges        6531\n",
              "Churn                  2\n",
              "dtype: int64"
            ]
          },
          "metadata": {
            "tags": []
          },
          "execution_count": 6
        }
      ]
    },
    {
      "cell_type": "markdown",
      "metadata": {
        "id": "zAmm8AvP9cwe"
      },
      "source": [
        "- La plupart des variables catégorielles ont 4 valeurs uniques ou moins."
      ]
    },
    {
      "cell_type": "code",
      "metadata": {
        "colab": {
          "base_uri": "https://localhost:8080/"
        },
        "id": "6tPZN9VC5RuZ",
        "outputId": "d03cf35e-34af-4ed4-d1f3-b0b134ef53ce"
      },
      "source": [
        "# Vérification des données dupliquées\n",
        "print(f\"il y'a {churn_data.duplicated().sum()} données dupliquées.\")"
      ],
      "execution_count": 7,
      "outputs": [
        {
          "output_type": "stream",
          "text": [
            "il y'a 0 données dupliquées.\n"
          ],
          "name": "stdout"
        }
      ]
    },
    {
      "cell_type": "markdown",
      "metadata": {
        "id": "-HFPrBz3OE_r"
      },
      "source": [
        "## 2. Analyse des distributions\n",
        "- Nous combinons les variables en deux listes(Catégorielles et numériques) afin de pouvoir les analyser conjointement.\n",
        "- Nous étudions les distributions des variables numériques et catégorielles pour vérifier l'absence de valeurs aberrantes \n",
        "- et comparons les distributions des caractéristiques avec la variable cible."
      ]
    },
    {
      "cell_type": "markdown",
      "metadata": {
        "id": "V1Wy8dBYQ4fM"
      },
      "source": [
        "### 2.1. Analyse des variables numériques\n",
        "- Usage des techniques de résumé numérique (moyenne, écart-type, etc.). \n",
        "- Usage des histogrammes."
      ]
    },
    {
      "cell_type": "code",
      "metadata": {
        "id": "Ol9Wzi1csrHG"
      },
      "source": [
        "# Transformation de la variable \"TotalCharges\" en float\n",
        "numerical_features = [\"tenure\", \"MonthlyCharges\", \"TotalCharges\"]\n",
        "churn_data['TotalCharges'] = churn_data['TotalCharges'].replace(' ', np.nan).astype(float)"
      ],
      "execution_count": 8,
      "outputs": []
    },
    {
      "cell_type": "markdown",
      "metadata": {
        "id": "jYL5O1-wdXyZ"
      },
      "source": [
        "#### 2.1.1 Analyse univariée"
      ]
    },
    {
      "cell_type": "code",
      "metadata": {
        "id": "et0jPbXHdD3t"
      },
      "source": [
        "# Fonction de boxplot interactive\n",
        "def box_plot(b):\n",
        "  sns.boxplot(y = churn_data[b])\n",
        "  plt.title('Boxplot of ' + str(b))\n",
        "  return plt.show()"
      ],
      "execution_count": 9,
      "outputs": []
    },
    {
      "cell_type": "code",
      "metadata": {
        "colab": {
          "base_uri": "https://localhost:8080/",
          "height": 281
        },
        "id": "jRtJXRoyo4Xv",
        "outputId": "4bbe40dd-e0bb-4e9d-a792-7a0a483550d4"
      },
      "source": [
        "# Histogrammes\n",
        "fig, ax = plt.subplots(1, 3, figsize=(14, 4))\n",
        "churn_data[numerical_features].hist(bins=30, ax=ax)\n",
        "plt.show()"
      ],
      "execution_count": 10,
      "outputs": [
        {
          "output_type": "display_data",
          "data": {
            "image/png": "[encoded data removed]",
            "text/plain": [
              "<Figure size 1008x288 with 3 Axes>"
            ]
          },
          "metadata": {
            "tags": [],
            "needs_background": "light"
          }
        }
      ]
    },
    {
      "cell_type": "code",
      "metadata": {
        "colab": {
          "base_uri": "https://localhost:8080/",
          "height": 300,
          "referenced_widgets": [
            "d633f4fdf5e64a6aaf1dbb0444c7e738",
            "86350444e58d48c28320961be48c8748",
            "bb17cf1f137d4b03b262d8e769c650b0",
            "dd6fd56f34ce4fe08cb95741665f3af2",
            "6974740f50654025b76f81b217603394",
            "ea9a07970c7f47ed9ee0354456f34d4a",
            "d58def35d6e148b69466d763d26fea89"
          ]
        },
        "id": "PeTJcqGMxvD5",
        "outputId": "74204481-ab51-46e1-b561-ff6d11eb0d9f"
      },
      "source": [
        "# Boites à moustaches interavtives\n",
        "interact(box_plot, b = numerical_features);"
      ],
      "execution_count": 11,
      "outputs": [
        {
          "output_type": "display_data",
          "data": {
            "application/vnd.jupyter.widget-view+json": {
              "model_id": "d633f4fdf5e64a6aaf1dbb0444c7e738",
              "version_minor": 0,
              "version_major": 2
            },
            "text/plain": [
              "interactive(children=(Dropdown(description='b', options=('tenure', 'MonthlyCharges', 'TotalCharges'), value='t…"
            ]
          },
          "metadata": {
            "tags": []
          }
        }
      ]
    },
    {
      "cell_type": "markdown",
      "metadata": {
        "id": "vna0TcTAeghr"
      },
      "source": [
        "- À première vue, il n'y a pas de valeurs aberrantes dans les données. Aucun point de données n'est déconnecté de la distribution ou trop éloigné de la valeur moyenne. \n",
        "- Pour le confirmer, nous devrions calculer [l'écart interquartile (IQR)] (https://www.purplemath.com/modules/boxwhisk3.htm) et montrer que les valeurs de chaque élément numérique se situent dans la fourchette de 1,5 IQR entre le premier et le troisième quartile.\n",
        "- Bien que ne présentant pas de valeurs aberrantes (*outliers*), Ces variables sont très asymétriques ce qui pourrait causer des erreurs au niveau des modèles que nous allons construire.\n",
        "\n",
        "*Pistes d'amélioration(features engineering)*:\n",
        "\n",
        "- Nous pouvons appliquer des fonctions de transformation à ces variables afin de les rendre moins asymétrique. \n",
        "- Nous pourrions convertir les valeurs numériques en intervalles ordinaux. Par exemple, l'ancienneté(**tenure**) est numérique, mais souvent nous ne nous soucions pas des petites différences numériques et nous regroupons plutôt l'ancienneté en clients à court, moyen et long terme. L'une des raisons de cette conversion serait de réduire le bruit, car souvent les petites fluctuations ne sont que du bruit."
      ]
    },
    {
      "cell_type": "markdown",
      "metadata": {
        "id": "ca30jWfi6xif"
      },
      "source": [
        "### 2.1.2 Analyse multivariée\n",
        "Nous examinons ici les distributions des caractéristiques numériques par rapport à la variable cible."
      ]
    },
    {
      "cell_type": "code",
      "metadata": {
        "colab": {
          "base_uri": "https://localhost:8080/",
          "height": 295
        },
        "id": "04xs8IqU8JOv",
        "outputId": "420cba0a-dd8d-4b0a-958a-be6c88c8a529"
      },
      "source": [
        "# Relations entre variables numériques et variables cible\n",
        "tittle =[\"tenure&Churn\", \"MonthlyCharges&Churn\", \"TotalCharges&Churn\"]\n",
        "plt.figure(figsize=(20,4))\n",
        "for i in range(len(numerical_features)):\n",
        "  plt.subplot(1,3,i+1)\n",
        "  sns.boxplot(x='Churn', y=numerical_features[i], data=churn_data)\n",
        "  plt.xlabel('Désabonnement')\n",
        "  plt.ylabel(numerical_features[i])\n",
        "  plt.title(tittle[i])\n",
        "\n",
        "plt.show()"
      ],
      "execution_count": 12,
      "outputs": [
        {
          "output_type": "display_data",
          "data": {
            "image/png": "[encoded data removed]",
            "text/plain": [
              "<Figure size 1440x288 with 3 Axes>"
            ]
          },
          "metadata": {
            "tags": [],
            "needs_background": "light"
          }
        }
      ]
    },
    {
      "cell_type": "markdown",
      "metadata": {
        "id": "SDZjrN9uKLF4"
      },
      "source": [
        "- Nous pouvons observer que plus la charge totale facturée ( TotalCharges) et l'ancienneté (tenure) sont élevées, moins élevés sont les désabonnements.\n",
        "-  les clients qui se sont désabonnés sont plus facturés mensuellement (MonthlyCharges) que les clients qui se se sont pas désabonnés. Cette information est très importante pour l'entreprise car le montant facturé mensuellement peut être un facteur important qui détermine si un client va se désabonner ou non."
      ]
    },
    {
      "cell_type": "code",
      "metadata": {
        "colab": {
          "base_uri": "https://localhost:8080/",
          "height": 295
        },
        "id": "RIFdVyzU9h6K",
        "outputId": "c55419a2-3d1b-4cf0-827f-6b808b07e713"
      },
      "source": [
        "# Relation entre \"MonthlyCharges\" et \"churn\" selon chacune des variables \"Dependents\",\"SeniorCitizen\"\n",
        "plt.figure(figsize=(20,4))\n",
        "plt.subplot(1,2,1)\n",
        "sns.boxplot(x = 'Churn', y = 'MonthlyCharges', data=churn_data, hue = 'SeniorCitizen');\n",
        "plt.title(\"Senior Citizen\")\n",
        "plt.subplot(1,2,2)\n",
        "sns.boxplot(x = 'Churn', y = 'MonthlyCharges', data=churn_data, hue = 'Dependents')\n",
        "plt.title(\"Dependents\")\n",
        "plt.show()"
      ],
      "execution_count": 13,
      "outputs": [
        {
          "output_type": "display_data",
          "data": {
            "image/png": "[encoded data removed]",
            "text/plain": [
              "<Figure size 1440x288 with 2 Axes>"
            ]
          },
          "metadata": {
            "tags": [],
            "needs_background": "light"
          }
        }
      ]
    },
    {
      "cell_type": "markdown",
      "metadata": {
        "id": "Gn82yxV2R-bf"
      },
      "source": [
        "- Il semble que les personnes âgées soient beaucoup plus facturées mensuellement que les jeunes. Malgré cela, ils restent plus fidèles à l'entreprise que les jeunes.\n",
        "- Le clients avec des persones à leur charges sont moins facturés mensuellement que ceux qui n'en ont pas. Le fait d'avoir des personnes à sa charge n'influence par Les désabonnement. "
      ]
    },
    {
      "cell_type": "code",
      "metadata": {
        "colab": {
          "base_uri": "https://localhost:8080/",
          "height": 290
        },
        "id": "hk6fQKBmZ3jf",
        "outputId": "4db3c1a8-1e53-40b9-c7c9-2e1bcca2d911"
      },
      "source": [
        "# Résumé des données\n",
        "churn_data[numerical_features].describe()"
      ],
      "execution_count": 14,
      "outputs": [
        {
          "output_type": "execute_result",
          "data": {
            "text/html": [
              "<div>\n",
              "<style scoped>\n",
              "    .dataframe tbody tr th:only-of-type {\n",
              "        vertical-align: middle;\n",
              "    }\n",
              "\n",
              "    .dataframe tbody tr th {\n",
              "        vertical-align: top;\n",
              "    }\n",
              "\n",
              "    .dataframe thead th {\n",
              "        text-align: right;\n",
              "    }\n",
              "</style>\n",
              "<table border=\"1\" class=\"dataframe\">\n",
              "  <thead>\n",
              "    <tr style=\"text-align: right;\">\n",
              "      <th></th>\n",
              "      <th>tenure</th>\n",
              "      <th>MonthlyCharges</th>\n",
              "      <th>TotalCharges</th>\n",
              "    </tr>\n",
              "  </thead>\n",
              "  <tbody>\n",
              "    <tr>\n",
              "      <th>count</th>\n",
              "      <td>7043.000000</td>\n",
              "      <td>7043.000000</td>\n",
              "      <td>7032.000000</td>\n",
              "    </tr>\n",
              "    <tr>\n",
              "      <th>mean</th>\n",
              "      <td>32.371149</td>\n",
              "      <td>64.761692</td>\n",
              "      <td>2283.300441</td>\n",
              "    </tr>\n",
              "    <tr>\n",
              "      <th>std</th>\n",
              "      <td>24.559481</td>\n",
              "      <td>30.090047</td>\n",
              "      <td>2266.771362</td>\n",
              "    </tr>\n",
              "    <tr>\n",
              "      <th>min</th>\n",
              "      <td>0.000000</td>\n",
              "      <td>18.250000</td>\n",
              "      <td>18.800000</td>\n",
              "    </tr>\n",
              "    <tr>\n",
              "      <th>25%</th>\n",
              "      <td>9.000000</td>\n",
              "      <td>35.500000</td>\n",
              "      <td>401.450000</td>\n",
              "    </tr>\n",
              "    <tr>\n",
              "      <th>50%</th>\n",
              "      <td>29.000000</td>\n",
              "      <td>70.350000</td>\n",
              "      <td>1397.475000</td>\n",
              "    </tr>\n",
              "    <tr>\n",
              "      <th>75%</th>\n",
              "      <td>55.000000</td>\n",
              "      <td>89.850000</td>\n",
              "      <td>3794.737500</td>\n",
              "    </tr>\n",
              "    <tr>\n",
              "      <th>max</th>\n",
              "      <td>72.000000</td>\n",
              "      <td>118.750000</td>\n",
              "      <td>8684.800000</td>\n",
              "    </tr>\n",
              "  </tbody>\n",
              "</table>\n",
              "</div>"
            ],
            "text/plain": [
              "            tenure  MonthlyCharges  TotalCharges\n",
              "count  7043.000000     7043.000000   7032.000000\n",
              "mean     32.371149       64.761692   2283.300441\n",
              "std      24.559481       30.090047   2266.771362\n",
              "min       0.000000       18.250000     18.800000\n",
              "25%       9.000000       35.500000    401.450000\n",
              "50%      29.000000       70.350000   1397.475000\n",
              "75%      55.000000       89.850000   3794.737500\n",
              "max      72.000000      118.750000   8684.800000"
            ]
          },
          "metadata": {
            "tags": []
          },
          "execution_count": 14
        }
      ]
    },
    {
      "cell_type": "markdown",
      "metadata": {
        "id": "X94sQV64XEc4"
      },
      "source": [
        "- Les trois variables quantitatives (***tenure***, ***MonthlyCharges***, et ***TotalCharges***) ont différentes échelles. \n",
        "- ***tenure*** varie entre 0 et 72 tandis que ***MonthlyCharges*** varie entre 18.25 et 118.75 et ***TotalCharges*** varie entre 18.8 et 8684.8. \n",
        "- De nombreux modèles de Machine et de Deep Learning fonctionnent mieux avec des variables standardisées ou normalisées. \n"
      ]
    },
    {
      "cell_type": "markdown",
      "metadata": {
        "id": "Iqia788xX2kc"
      },
      "source": [
        "## 2.2 Analyse des variables catégorielles"
      ]
    },
    {
      "cell_type": "markdown",
      "metadata": {
        "id": "bqLUrEBbPnS0"
      },
      "source": [
        "### 2.2.1 Analyse univariée\n",
        "Nous regardons les proportions des catégories dans les variables"
      ]
    },
    {
      "cell_type": "code",
      "metadata": {
        "colab": {
          "base_uri": "https://localhost:8080/"
        },
        "id": "DehbkP80Xc8d",
        "outputId": "04d07c75-fade-4c2a-9e52-90da1aef495e"
      },
      "source": [
        "# Variables catégorielles\n",
        "categorical_features = churn_data.nunique()[churn_data.nunique() < 5].keys().to_list()[:-1]\n",
        "target = 'Churn'\n",
        "categorical_features"
      ],
      "execution_count": 15,
      "outputs": [
        {
          "output_type": "execute_result",
          "data": {
            "text/plain": [
              "['gender',\n",
              " 'SeniorCitizen',\n",
              " 'Partner',\n",
              " 'Dependents',\n",
              " 'PhoneService',\n",
              " 'MultipleLines',\n",
              " 'InternetService',\n",
              " 'OnlineSecurity',\n",
              " 'OnlineBackup',\n",
              " 'DeviceProtection',\n",
              " 'TechSupport',\n",
              " 'StreamingTV',\n",
              " 'StreamingMovies',\n",
              " 'Contract',\n",
              " 'PaperlessBilling',\n",
              " 'PaymentMethod']"
            ]
          },
          "metadata": {
            "tags": []
          },
          "execution_count": 15
        }
      ]
    },
    {
      "cell_type": "code",
      "metadata": {
        "id": "APAtLWRWhG-O"
      },
      "source": [
        "# Fonction de construction de graphiques circulaires interactifs\n",
        "def pie_plot(a):\n",
        "  plt.figure(figsize=(20,4))\n",
        "  churn_data[a].value_counts(normalize = True).plot(kind = 'pie',autopct='%1.1f%%')\n",
        "  plt.ylabel('proportion')\n",
        "  plt.title('Distribution of ' + str(a))\n",
        "  return plt.show()"
      ],
      "execution_count": 16,
      "outputs": []
    },
    {
      "cell_type": "code",
      "metadata": {
        "colab": {
          "base_uri": "https://localhost:8080/",
          "height": 312,
          "referenced_widgets": [
            "77364586c0164a0599973861082341f8",
            "a8157e210a534965a1574f87c280cd9c",
            "8875c6062004408b97743995ce7d81f7",
            "99212ee048a24b59aefebcb5e95b5b6c",
            "85ae08e161944a89b54a68365020db80",
            "080c93f67d9145afb2a406628704be3e",
            "427f7d379c31412fb0eb93d263792dd2"
          ]
        },
        "id": "XNFPIRJqheLx",
        "outputId": "4b439455-791d-492c-d5d2-8e670ba6a5f6"
      },
      "source": [
        "#pieplot interactif\n",
        "print(\"cliquez dans la barre pour selectionner la variable à analyser.\")\n",
        "interact(pie_plot, a = categorical_features+[target]);"
      ],
      "execution_count": 17,
      "outputs": [
        {
          "output_type": "stream",
          "text": [
            "cliquez dans la barre pour selectionner la variable à analyser.\n"
          ],
          "name": "stdout"
        },
        {
          "output_type": "display_data",
          "data": {
            "application/vnd.jupyter.widget-view+json": {
              "model_id": "77364586c0164a0599973861082341f8",
              "version_minor": 0,
              "version_major": 2
            },
            "text/plain": [
              "interactive(children=(Dropdown(description='a', options=('gender', 'SeniorCitizen', 'Partner', 'Dependents', '…"
            ]
          },
          "metadata": {
            "tags": []
          }
        }
      ]
    },
    {
      "cell_type": "markdown",
      "metadata": {
        "id": "Uxjq-tVvpRkj"
      },
      "source": [
        "- Il y a plus de clients qui ne se sont pas désabonnés (73.5%) que de clients qui se sont désabonné (26.5%). Donc nous avons un problème de déséquilibre qu'il faudra absolument résoudre car cela peut impacter négativement la performance des modèles de classification que nous allons construire.\n",
        "- la distribution des données entre les différents sexes est à peu près également répartie.\n",
        "- Le nombre de clients qui sont des personnes âgées (16.2%) est bien inférieur à celui des clients jeunes (83.8%).\n",
        "\n",
        "- La variable Partner indique si le client a un partenaire (Yes) ou pas (No). Les deux catégories ont pratiquement la même proportion."
      ]
    },
    {
      "cell_type": "markdown",
      "metadata": {
        "id": "bfNDXVDHiW9_"
      },
      "source": [
        "# Preprocessing\n",
        "- Traitement des valeurs manquantes\n",
        "- Encodage des variables catégorielles\n",
        "- Traitement de l'asymétrie\n",
        "- reéchantillonnage"
      ]
    },
    {
      "cell_type": "markdown",
      "metadata": {
        "id": "wmHGPCYovdGZ"
      },
      "source": [
        "## 1.Traitement des valeurs manquantes\n",
        "Le pourcentage de valeurs manquantes étant négligeable, on peut simplement les supprimer."
      ]
    },
    {
      "cell_type": "code",
      "metadata": {
        "colab": {
          "base_uri": "https://localhost:8080/"
        },
        "id": "wY-OTaWVNcjH",
        "outputId": "1f1c4eb0-c8c1-41ab-ff2f-bd2048cf9dad"
      },
      "source": [
        "# suppression des valeurs manquantes\n",
        "print(f\"Il y'a {round(churn_data.isna().sum()['TotalCharges']/churn_data.shape[0],4)*100}% de valeurs manquantes.\")\n",
        "churn = churn_data.copy()\n",
        "churn.dropna(inplace=True)"
      ],
      "execution_count": 18,
      "outputs": [
        {
          "output_type": "stream",
          "text": [
            "Il y'a 0.16% de valeurs manquantes.\n"
          ],
          "name": "stdout"
        }
      ]
    },
    {
      "cell_type": "code",
      "metadata": {
        "id": "6wzu82y0D2O-"
      },
      "source": [
        ""
      ],
      "execution_count": 18,
      "outputs": []
    },
    {
      "cell_type": "markdown",
      "metadata": {
        "id": "l-HE0xk9n3TK"
      },
      "source": [
        "# 2.Encodage des variables Catégorielles\n",
        "- Pour préparer l'ensemble de données à la modélisation du taux de désabonnement, nous devons encoder les variables catégorielles en nombres. \n",
        "- Cela signifie coder \"Oui\", \"Non\" en 0 et 1 afin que l'algorithme puisse travailler avec les données. \n",
        "- Ce processus est appelé [Label encoding](https://www.mygreatlearning.com/blog/label-encoding-in-python/)."
      ]
    },
    {
      "cell_type": "code",
      "metadata": {
        "colab": {
          "base_uri": "https://localhost:8080/"
        },
        "id": "mQlFfsQ3mLf3",
        "outputId": "0f5a49e9-541f-404e-e957-2875d8e7dacd"
      },
      "source": [
        "categorical_feature_names = []\n",
        "label_encoders = {}\n",
        "for categorical in categorical_features+[target]:\n",
        "  label_encoders[categorical] = LabelEncoder()\n",
        "  churn[categorical] = label_encoders[categorical].fit_transform(churn[categorical])\n",
        "  names = label_encoders[categorical].classes_.tolist()\n",
        "  print('Label encoder %s - values: %s' % (categorical, names))"
      ],
      "execution_count": 19,
      "outputs": [
        {
          "output_type": "stream",
          "text": [
            "Label encoder gender - values: ['Female', 'Male']\n",
            "Label encoder SeniorCitizen - values: [0, 1]\n",
            "Label encoder Partner - values: ['No', 'Yes']\n",
            "Label encoder Dependents - values: ['No', 'Yes']\n",
            "Label encoder PhoneService - values: ['No', 'Yes']\n",
            "Label encoder MultipleLines - values: ['No', 'No phone service', 'Yes']\n",
            "Label encoder InternetService - values: ['DSL', 'Fiber optic', 'No']\n",
            "Label encoder OnlineSecurity - values: ['No', 'No internet service', 'Yes']\n",
            "Label encoder OnlineBackup - values: ['No', 'No internet service', 'Yes']\n",
            "Label encoder DeviceProtection - values: ['No', 'No internet service', 'Yes']\n",
            "Label encoder TechSupport - values: ['No', 'No internet service', 'Yes']\n",
            "Label encoder StreamingTV - values: ['No', 'No internet service', 'Yes']\n",
            "Label encoder StreamingMovies - values: ['No', 'No internet service', 'Yes']\n",
            "Label encoder Contract - values: ['Month-to-month', 'One year', 'Two year']\n",
            "Label encoder PaperlessBilling - values: ['No', 'Yes']\n",
            "Label encoder PaymentMethod - values: ['Bank transfer (automatic)', 'Credit card (automatic)', 'Electronic check', 'Mailed check']\n",
            "Label encoder Churn - values: ['No', 'Yes']\n"
          ],
          "name": "stdout"
        }
      ]
    },
    {
      "cell_type": "code",
      "metadata": {
        "colab": {
          "base_uri": "https://localhost:8080/",
          "height": 301
        },
        "id": "bik6wcuFslGC",
        "outputId": "b175ba9d-b331-4036-9556-658b5dd06a84"
      },
      "source": [
        "churn.head()"
      ],
      "execution_count": 20,
      "outputs": [
        {
          "output_type": "execute_result",
          "data": {
            "text/html": [
              "<div>\n",
              "<style scoped>\n",
              "    .dataframe tbody tr th:only-of-type {\n",
              "        vertical-align: middle;\n",
              "    }\n",
              "\n",
              "    .dataframe tbody tr th {\n",
              "        vertical-align: top;\n",
              "    }\n",
              "\n",
              "    .dataframe thead th {\n",
              "        text-align: right;\n",
              "    }\n",
              "</style>\n",
              "<table border=\"1\" class=\"dataframe\">\n",
              "  <thead>\n",
              "    <tr style=\"text-align: right;\">\n",
              "      <th></th>\n",
              "      <th>customerID</th>\n",
              "      <th>gender</th>\n",
              "      <th>SeniorCitizen</th>\n",
              "      <th>Partner</th>\n",
              "      <th>Dependents</th>\n",
              "      <th>tenure</th>\n",
              "      <th>PhoneService</th>\n",
              "      <th>MultipleLines</th>\n",
              "      <th>InternetService</th>\n",
              "      <th>OnlineSecurity</th>\n",
              "      <th>OnlineBackup</th>\n",
              "      <th>DeviceProtection</th>\n",
              "      <th>TechSupport</th>\n",
              "      <th>StreamingTV</th>\n",
              "      <th>StreamingMovies</th>\n",
              "      <th>Contract</th>\n",
              "      <th>PaperlessBilling</th>\n",
              "      <th>PaymentMethod</th>\n",
              "      <th>MonthlyCharges</th>\n",
              "      <th>TotalCharges</th>\n",
              "      <th>Churn</th>\n",
              "    </tr>\n",
              "  </thead>\n",
              "  <tbody>\n",
              "    <tr>\n",
              "      <th>0</th>\n",
              "      <td>7590-VHVEG</td>\n",
              "      <td>0</td>\n",
              "      <td>0</td>\n",
              "      <td>1</td>\n",
              "      <td>0</td>\n",
              "      <td>1</td>\n",
              "      <td>0</td>\n",
              "      <td>1</td>\n",
              "      <td>0</td>\n",
              "      <td>0</td>\n",
              "      <td>2</td>\n",
              "      <td>0</td>\n",
              "      <td>0</td>\n",
              "      <td>0</td>\n",
              "      <td>0</td>\n",
              "      <td>0</td>\n",
              "      <td>1</td>\n",
              "      <td>2</td>\n",
              "      <td>29.85</td>\n",
              "      <td>29.85</td>\n",
              "      <td>0</td>\n",
              "    </tr>\n",
              "    <tr>\n",
              "      <th>1</th>\n",
              "      <td>5575-GNVDE</td>\n",
              "      <td>1</td>\n",
              "      <td>0</td>\n",
              "      <td>0</td>\n",
              "      <td>0</td>\n",
              "      <td>34</td>\n",
              "      <td>1</td>\n",
              "      <td>0</td>\n",
              "      <td>0</td>\n",
              "      <td>2</td>\n",
              "      <td>0</td>\n",
              "      <td>2</td>\n",
              "      <td>0</td>\n",
              "      <td>0</td>\n",
              "      <td>0</td>\n",
              "      <td>1</td>\n",
              "      <td>0</td>\n",
              "      <td>3</td>\n",
              "      <td>56.95</td>\n",
              "      <td>1889.50</td>\n",
              "      <td>0</td>\n",
              "    </tr>\n",
              "    <tr>\n",
              "      <th>2</th>\n",
              "      <td>3668-QPYBK</td>\n",
              "      <td>1</td>\n",
              "      <td>0</td>\n",
              "      <td>0</td>\n",
              "      <td>0</td>\n",
              "      <td>2</td>\n",
              "      <td>1</td>\n",
              "      <td>0</td>\n",
              "      <td>0</td>\n",
              "      <td>2</td>\n",
              "      <td>2</td>\n",
              "      <td>0</td>\n",
              "      <td>0</td>\n",
              "      <td>0</td>\n",
              "      <td>0</td>\n",
              "      <td>0</td>\n",
              "      <td>1</td>\n",
              "      <td>3</td>\n",
              "      <td>53.85</td>\n",
              "      <td>108.15</td>\n",
              "      <td>1</td>\n",
              "    </tr>\n",
              "    <tr>\n",
              "      <th>3</th>\n",
              "      <td>7795-CFOCW</td>\n",
              "      <td>1</td>\n",
              "      <td>0</td>\n",
              "      <td>0</td>\n",
              "      <td>0</td>\n",
              "      <td>45</td>\n",
              "      <td>0</td>\n",
              "      <td>1</td>\n",
              "      <td>0</td>\n",
              "      <td>2</td>\n",
              "      <td>0</td>\n",
              "      <td>2</td>\n",
              "      <td>2</td>\n",
              "      <td>0</td>\n",
              "      <td>0</td>\n",
              "      <td>1</td>\n",
              "      <td>0</td>\n",
              "      <td>0</td>\n",
              "      <td>42.30</td>\n",
              "      <td>1840.75</td>\n",
              "      <td>0</td>\n",
              "    </tr>\n",
              "    <tr>\n",
              "      <th>4</th>\n",
              "      <td>9237-HQITU</td>\n",
              "      <td>0</td>\n",
              "      <td>0</td>\n",
              "      <td>0</td>\n",
              "      <td>0</td>\n",
              "      <td>2</td>\n",
              "      <td>1</td>\n",
              "      <td>0</td>\n",
              "      <td>1</td>\n",
              "      <td>0</td>\n",
              "      <td>0</td>\n",
              "      <td>0</td>\n",
              "      <td>0</td>\n",
              "      <td>0</td>\n",
              "      <td>0</td>\n",
              "      <td>0</td>\n",
              "      <td>1</td>\n",
              "      <td>2</td>\n",
              "      <td>70.70</td>\n",
              "      <td>151.65</td>\n",
              "      <td>1</td>\n",
              "    </tr>\n",
              "  </tbody>\n",
              "</table>\n",
              "</div>"
            ],
            "text/plain": [
              "   customerID  gender  SeniorCitizen  ...  MonthlyCharges  TotalCharges  Churn\n",
              "0  7590-VHVEG       0              0  ...           29.85         29.85      0\n",
              "1  5575-GNVDE       1              0  ...           56.95       1889.50      0\n",
              "2  3668-QPYBK       1              0  ...           53.85        108.15      1\n",
              "3  7795-CFOCW       1              0  ...           42.30       1840.75      0\n",
              "4  9237-HQITU       0              0  ...           70.70        151.65      1\n",
              "\n",
              "[5 rows x 21 columns]"
            ]
          },
          "metadata": {
            "tags": []
          },
          "execution_count": 20
        }
      ]
    },
    {
      "cell_type": "markdown",
      "metadata": {
        "id": "_D7ynTrGuaQZ"
      },
      "source": [
        "# 3.Traitement de l'asymetrie\n",
        "Nous avons vu que la variable ***TotalCharges*** est très asymétrique alors transformons-la par une fonction racine carrée."
      ]
    },
    {
      "cell_type": "code",
      "metadata": {
        "id": "zlBww8GqyI4F"
      },
      "source": [
        "# Transformation de la variable 'TotalCharges' \n",
        "churn['TotalCharges'] = np.sqrt(churn['TotalCharges'])"
      ],
      "execution_count": 21,
      "outputs": []
    },
    {
      "cell_type": "code",
      "metadata": {
        "colab": {
          "base_uri": "https://localhost:8080/",
          "height": 331
        },
        "id": "Lq5ooM9HzBBx",
        "outputId": "801efeac-2a8c-496f-d2b2-b19e6701f056"
      },
      "source": [
        "# Histogramme de la variable transformée\n",
        "sns.distplot(churn['TotalCharges'], kde=False);\n",
        "plt.show()"
      ],
      "execution_count": 22,
      "outputs": [
        {
          "output_type": "stream",
          "text": [
            "/usr/local/lib/python3.7/dist-packages/seaborn/distributions.py:2557: FutureWarning: `distplot` is a deprecated function and will be removed in a future version. Please adapt your code to use either `displot` (a figure-level function with similar flexibility) or `histplot` (an axes-level function for histograms).\n",
            "  warnings.warn(msg, FutureWarning)\n"
          ],
          "name": "stderr"
        },
        {
          "output_type": "display_data",
          "data": {
            "image/png": "[encoded data removed]",
            "text/plain": [
              "<Figure size 432x288 with 1 Axes>"
            ]
          },
          "metadata": {
            "tags": [],
            "needs_background": "light"
          }
        }
      ]
    },
    {
      "cell_type": "markdown",
      "metadata": {
        "id": "v4e1GJsdKTbB"
      },
      "source": [
        "## 4. rééchantillonnage \n",
        "- Il s'agit de traiter le problème de déséquilibre de classe dans les données.\n",
        "\n",
        "- orsqu'il y a une très grande différence entre le nombre d'observations dans chaque catégorie de la variable cible à prédire, cela peut entraîner des erreurs de modélisation.\n",
        "\n",
        "- Dans le cas d'espèce, il y a 73,5% de personnes qui n'ont pas résilié leur abonnement contre 26,5% qui l'ont fait. \n",
        "- Il y a donc un grand déséquilibre de classe. \n",
        "- Nous pouvons utiliser le rééchantillonnage pour créer plus d'équilibre entre les catégories de la variable cible. Soit on crée plus d'observations dans la classe minoritaire (modalité 1) c'est-à-dire on fait un sur-échantillonnage, soit on diminue les observations de la classe majoritaire (modalité 0) c'est-à-dire un sous-échantillonnage.\n",
        "- Nous nous limiterons ici au sur échantillonnage.\n",
        "- Nous allons rééchantillonner juste les données d'entraînement.\n"
      ]
    },
    {
      "cell_type": "code",
      "metadata": {
        "id": "MiX87RVU4ICd"
      },
      "source": [
        "# Données d'entraînement (60%), de validation (20%) et de test (20%)\n",
        "seed = 1111\n",
        "X_train, X_test = train_test_split(churn, test_size = 0.4, random_state = seed)\n",
        "X_val, X_test = train_test_split(X_test, test_size = 0.5, random_state = seed)"
      ],
      "execution_count": 23,
      "outputs": []
    },
    {
      "cell_type": "code",
      "metadata": {
        "colab": {
          "base_uri": "https://localhost:8080/",
          "height": 558
        },
        "id": "4HeFWGD9JpLN",
        "outputId": "2f6154b9-fd0c-457e-f524-20d365962129"
      },
      "source": [
        "# Résolution du problème de déséquilibre de classe : Méthode de sur-échantillonnage de la classe minoritaire\n",
        "minority = X_train[X_train.Churn == 1]\n",
        "majority = X_train[X_train.Churn == 0]\n",
        "minority_upsampled = resample(minority, replace = True, n_samples = len(majority), random_state=seed)\n",
        "upsampled = pd.concat([majority, minority_upsampled])\n",
        "upsampled"
      ],
      "execution_count": 24,
      "outputs": [
        {
          "output_type": "execute_result",
          "data": {
            "text/html": [
              "<div>\n",
              "<style scoped>\n",
              "    .dataframe tbody tr th:only-of-type {\n",
              "        vertical-align: middle;\n",
              "    }\n",
              "\n",
              "    .dataframe tbody tr th {\n",
              "        vertical-align: top;\n",
              "    }\n",
              "\n",
              "    .dataframe thead th {\n",
              "        text-align: right;\n",
              "    }\n",
              "</style>\n",
              "<table border=\"1\" class=\"dataframe\">\n",
              "  <thead>\n",
              "    <tr style=\"text-align: right;\">\n",
              "      <th></th>\n",
              "      <th>customerID</th>\n",
              "      <th>gender</th>\n",
              "      <th>SeniorCitizen</th>\n",
              "      <th>Partner</th>\n",
              "      <th>Dependents</th>\n",
              "      <th>tenure</th>\n",
              "      <th>PhoneService</th>\n",
              "      <th>MultipleLines</th>\n",
              "      <th>InternetService</th>\n",
              "      <th>OnlineSecurity</th>\n",
              "      <th>OnlineBackup</th>\n",
              "      <th>DeviceProtection</th>\n",
              "      <th>TechSupport</th>\n",
              "      <th>StreamingTV</th>\n",
              "      <th>StreamingMovies</th>\n",
              "      <th>Contract</th>\n",
              "      <th>PaperlessBilling</th>\n",
              "      <th>PaymentMethod</th>\n",
              "      <th>MonthlyCharges</th>\n",
              "      <th>TotalCharges</th>\n",
              "      <th>Churn</th>\n",
              "    </tr>\n",
              "  </thead>\n",
              "  <tbody>\n",
              "    <tr>\n",
              "      <th>4877</th>\n",
              "      <td>4973-RLZVI</td>\n",
              "      <td>0</td>\n",
              "      <td>0</td>\n",
              "      <td>0</td>\n",
              "      <td>0</td>\n",
              "      <td>30</td>\n",
              "      <td>1</td>\n",
              "      <td>0</td>\n",
              "      <td>0</td>\n",
              "      <td>2</td>\n",
              "      <td>2</td>\n",
              "      <td>2</td>\n",
              "      <td>2</td>\n",
              "      <td>2</td>\n",
              "      <td>0</td>\n",
              "      <td>1</td>\n",
              "      <td>0</td>\n",
              "      <td>1</td>\n",
              "      <td>74.65</td>\n",
              "      <td>48.047893</td>\n",
              "      <td>0</td>\n",
              "    </tr>\n",
              "    <tr>\n",
              "      <th>3794</th>\n",
              "      <td>4280-DLSHD</td>\n",
              "      <td>1</td>\n",
              "      <td>0</td>\n",
              "      <td>1</td>\n",
              "      <td>0</td>\n",
              "      <td>8</td>\n",
              "      <td>1</td>\n",
              "      <td>0</td>\n",
              "      <td>0</td>\n",
              "      <td>0</td>\n",
              "      <td>2</td>\n",
              "      <td>2</td>\n",
              "      <td>0</td>\n",
              "      <td>0</td>\n",
              "      <td>0</td>\n",
              "      <td>0</td>\n",
              "      <td>1</td>\n",
              "      <td>3</td>\n",
              "      <td>54.75</td>\n",
              "      <td>21.115160</td>\n",
              "      <td>0</td>\n",
              "    </tr>\n",
              "    <tr>\n",
              "      <th>1476</th>\n",
              "      <td>5067-DGXLL</td>\n",
              "      <td>1</td>\n",
              "      <td>0</td>\n",
              "      <td>0</td>\n",
              "      <td>0</td>\n",
              "      <td>2</td>\n",
              "      <td>1</td>\n",
              "      <td>0</td>\n",
              "      <td>2</td>\n",
              "      <td>1</td>\n",
              "      <td>1</td>\n",
              "      <td>1</td>\n",
              "      <td>1</td>\n",
              "      <td>1</td>\n",
              "      <td>1</td>\n",
              "      <td>0</td>\n",
              "      <td>0</td>\n",
              "      <td>3</td>\n",
              "      <td>20.25</td>\n",
              "      <td>6.066300</td>\n",
              "      <td>0</td>\n",
              "    </tr>\n",
              "    <tr>\n",
              "      <th>1212</th>\n",
              "      <td>4291-SHSBH</td>\n",
              "      <td>1</td>\n",
              "      <td>0</td>\n",
              "      <td>0</td>\n",
              "      <td>0</td>\n",
              "      <td>7</td>\n",
              "      <td>1</td>\n",
              "      <td>0</td>\n",
              "      <td>1</td>\n",
              "      <td>0</td>\n",
              "      <td>0</td>\n",
              "      <td>0</td>\n",
              "      <td>0</td>\n",
              "      <td>0</td>\n",
              "      <td>0</td>\n",
              "      <td>0</td>\n",
              "      <td>1</td>\n",
              "      <td>2</td>\n",
              "      <td>69.55</td>\n",
              "      <td>22.833090</td>\n",
              "      <td>0</td>\n",
              "    </tr>\n",
              "    <tr>\n",
              "      <th>759</th>\n",
              "      <td>5684-FJVYR</td>\n",
              "      <td>0</td>\n",
              "      <td>0</td>\n",
              "      <td>1</td>\n",
              "      <td>1</td>\n",
              "      <td>72</td>\n",
              "      <td>1</td>\n",
              "      <td>2</td>\n",
              "      <td>1</td>\n",
              "      <td>2</td>\n",
              "      <td>2</td>\n",
              "      <td>0</td>\n",
              "      <td>2</td>\n",
              "      <td>0</td>\n",
              "      <td>0</td>\n",
              "      <td>2</td>\n",
              "      <td>1</td>\n",
              "      <td>0</td>\n",
              "      <td>90.35</td>\n",
              "      <td>81.014813</td>\n",
              "      <td>0</td>\n",
              "    </tr>\n",
              "    <tr>\n",
              "      <th>...</th>\n",
              "      <td>...</td>\n",
              "      <td>...</td>\n",
              "      <td>...</td>\n",
              "      <td>...</td>\n",
              "      <td>...</td>\n",
              "      <td>...</td>\n",
              "      <td>...</td>\n",
              "      <td>...</td>\n",
              "      <td>...</td>\n",
              "      <td>...</td>\n",
              "      <td>...</td>\n",
              "      <td>...</td>\n",
              "      <td>...</td>\n",
              "      <td>...</td>\n",
              "      <td>...</td>\n",
              "      <td>...</td>\n",
              "      <td>...</td>\n",
              "      <td>...</td>\n",
              "      <td>...</td>\n",
              "      <td>...</td>\n",
              "      <td>...</td>\n",
              "    </tr>\n",
              "    <tr>\n",
              "      <th>3975</th>\n",
              "      <td>2860-RANUS</td>\n",
              "      <td>0</td>\n",
              "      <td>1</td>\n",
              "      <td>0</td>\n",
              "      <td>0</td>\n",
              "      <td>20</td>\n",
              "      <td>1</td>\n",
              "      <td>2</td>\n",
              "      <td>1</td>\n",
              "      <td>0</td>\n",
              "      <td>0</td>\n",
              "      <td>0</td>\n",
              "      <td>0</td>\n",
              "      <td>0</td>\n",
              "      <td>2</td>\n",
              "      <td>0</td>\n",
              "      <td>1</td>\n",
              "      <td>1</td>\n",
              "      <td>85.80</td>\n",
              "      <td>41.563205</td>\n",
              "      <td>1</td>\n",
              "    </tr>\n",
              "    <tr>\n",
              "      <th>1742</th>\n",
              "      <td>5318-IXUZF</td>\n",
              "      <td>0</td>\n",
              "      <td>0</td>\n",
              "      <td>0</td>\n",
              "      <td>0</td>\n",
              "      <td>2</td>\n",
              "      <td>1</td>\n",
              "      <td>0</td>\n",
              "      <td>1</td>\n",
              "      <td>0</td>\n",
              "      <td>2</td>\n",
              "      <td>0</td>\n",
              "      <td>0</td>\n",
              "      <td>2</td>\n",
              "      <td>0</td>\n",
              "      <td>0</td>\n",
              "      <td>1</td>\n",
              "      <td>0</td>\n",
              "      <td>87.15</td>\n",
              "      <td>13.555442</td>\n",
              "      <td>1</td>\n",
              "    </tr>\n",
              "    <tr>\n",
              "      <th>4254</th>\n",
              "      <td>2683-BPJSO</td>\n",
              "      <td>1</td>\n",
              "      <td>0</td>\n",
              "      <td>1</td>\n",
              "      <td>0</td>\n",
              "      <td>29</td>\n",
              "      <td>1</td>\n",
              "      <td>2</td>\n",
              "      <td>1</td>\n",
              "      <td>2</td>\n",
              "      <td>2</td>\n",
              "      <td>0</td>\n",
              "      <td>0</td>\n",
              "      <td>0</td>\n",
              "      <td>0</td>\n",
              "      <td>0</td>\n",
              "      <td>1</td>\n",
              "      <td>2</td>\n",
              "      <td>84.45</td>\n",
              "      <td>49.669910</td>\n",
              "      <td>1</td>\n",
              "    </tr>\n",
              "    <tr>\n",
              "      <th>1086</th>\n",
              "      <td>8999-BOHSE</td>\n",
              "      <td>0</td>\n",
              "      <td>1</td>\n",
              "      <td>0</td>\n",
              "      <td>0</td>\n",
              "      <td>11</td>\n",
              "      <td>1</td>\n",
              "      <td>0</td>\n",
              "      <td>1</td>\n",
              "      <td>0</td>\n",
              "      <td>0</td>\n",
              "      <td>0</td>\n",
              "      <td>0</td>\n",
              "      <td>2</td>\n",
              "      <td>2</td>\n",
              "      <td>0</td>\n",
              "      <td>0</td>\n",
              "      <td>0</td>\n",
              "      <td>89.70</td>\n",
              "      <td>32.368194</td>\n",
              "      <td>1</td>\n",
              "    </tr>\n",
              "    <tr>\n",
              "      <th>1039</th>\n",
              "      <td>9948-YPTDG</td>\n",
              "      <td>1</td>\n",
              "      <td>0</td>\n",
              "      <td>1</td>\n",
              "      <td>0</td>\n",
              "      <td>38</td>\n",
              "      <td>1</td>\n",
              "      <td>0</td>\n",
              "      <td>1</td>\n",
              "      <td>2</td>\n",
              "      <td>2</td>\n",
              "      <td>0</td>\n",
              "      <td>0</td>\n",
              "      <td>0</td>\n",
              "      <td>0</td>\n",
              "      <td>0</td>\n",
              "      <td>1</td>\n",
              "      <td>2</td>\n",
              "      <td>79.45</td>\n",
              "      <td>54.891256</td>\n",
              "      <td>1</td>\n",
              "    </tr>\n",
              "  </tbody>\n",
              "</table>\n",
              "<p>6198 rows × 21 columns</p>\n",
              "</div>"
            ],
            "text/plain": [
              "      customerID  gender  SeniorCitizen  ...  MonthlyCharges  TotalCharges  Churn\n",
              "4877  4973-RLZVI       0              0  ...           74.65     48.047893      0\n",
              "3794  4280-DLSHD       1              0  ...           54.75     21.115160      0\n",
              "1476  5067-DGXLL       1              0  ...           20.25      6.066300      0\n",
              "1212  4291-SHSBH       1              0  ...           69.55     22.833090      0\n",
              "759   5684-FJVYR       0              0  ...           90.35     81.014813      0\n",
              "...          ...     ...            ...  ...             ...           ...    ...\n",
              "3975  2860-RANUS       0              1  ...           85.80     41.563205      1\n",
              "1742  5318-IXUZF       0              0  ...           87.15     13.555442      1\n",
              "4254  2683-BPJSO       1              0  ...           84.45     49.669910      1\n",
              "1086  8999-BOHSE       0              1  ...           89.70     32.368194      1\n",
              "1039  9948-YPTDG       1              0  ...           79.45     54.891256      1\n",
              "\n",
              "[6198 rows x 21 columns]"
            ]
          },
          "metadata": {
            "tags": []
          },
          "execution_count": 24
        }
      ]
    },
    {
      "cell_type": "code",
      "metadata": {
        "colab": {
          "base_uri": "https://localhost:8080/"
        },
        "id": "u4WetuMtMiQQ",
        "outputId": "f913c604-fcbf-4cae-b12f-7c620b08861b"
      },
      "source": [
        "# Vérification\n",
        "upsampled['Churn'].value_counts(normalize = True)"
      ],
      "execution_count": 25,
      "outputs": [
        {
          "output_type": "execute_result",
          "data": {
            "text/plain": [
              "1    0.5\n",
              "0    0.5\n",
              "Name: Churn, dtype: float64"
            ]
          },
          "metadata": {
            "tags": []
          },
          "execution_count": 25
        }
      ]
    },
    {
      "cell_type": "code",
      "metadata": {
        "id": "xZnrCcNSPFOe"
      },
      "source": [
        "# Données d'entraînement sur la base la méthode de sur-échantillonnage de la classe minoritaire\n",
        "churn_train= upsampled\n"
      ],
      "execution_count": 26,
      "outputs": []
    },
    {
      "cell_type": "markdown",
      "metadata": {
        "id": "U_dVP1n6s6_g"
      },
      "source": [
        "# Modélisation\n",
        "- Nous utilisons sklearn, une bibliothèque d'apprentissage automatique en Python, pour créer un classificateur. \n",
        "- La méthode de sklearn consiste à utiliser des pipelines qui définissent le traitement des caractéristiques et le classificateur.\n",
        "- Dans notre exemple, le pipeline prend un ensemble de données en entrée, il pré-traite les caractéristiques  \n",
        "- puis il entraîne un classificateur (LogisticRegression,tree.DecisionTreeClassifier), sur les caractéristiques apprises. \n",
        "- Une fois formé, il prend la même entrée et renvoie des prédictions en sortie.\n",
        "\n",
        "- Dans le pipeline, nous traitons séparément les caractéristiques catégorielles et numériques. \n",
        "- Nous codons en une seule fois les caractéristiques catégorielles et mettons à l'échelle les caractéristiques numériques en appliquant la fonction **MinMaxScaler()**.\n"
      ]
    },
    {
      "cell_type": "code",
      "metadata": {
        "id": "re08UBbmyRI3"
      },
      "source": [
        "class ItemSelector(BaseEstimator, TransformerMixin):\n",
        "    def __init__(self, key):\n",
        "        self.key = key\n",
        "\n",
        "    def fit(self, x, y=None):\n",
        "        return self\n",
        "\n",
        "    def transform(self, df):\n",
        "        return df[self.key]"
      ],
      "execution_count": 27,
      "outputs": []
    },
    {
      "cell_type": "markdown",
      "metadata": {
        "id": "A32fkXgys_j0"
      },
      "source": [
        "# 1.Modèle de regression logistique"
      ]
    },
    {
      "cell_type": "code",
      "metadata": {
        "colab": {
          "base_uri": "https://localhost:8080/"
        },
        "id": "03DJMeOBtO48",
        "outputId": "21a0eb2f-d176-4e4b-a6cf-3a69a9f45540"
      },
      "source": [
        "# Dictionnaire des hyperparamètres\n",
        "params = {'logistic__C':[0.001, 0.01, 1, 10, 50, 100, 500]}\n",
        "# GridSearchCV\n",
        "classifier = Pipeline(\n",
        "    [\n",
        "        (\n",
        "            \"union\",\n",
        "            FeatureUnion(\n",
        "                transformer_list=[\n",
        "                    (\n",
        "                        \"categorical_features\",\n",
        "                        Pipeline(\n",
        "                            [\n",
        "                                (\"selector\", ItemSelector(key=categorical_features)),\n",
        "                                (\"onehot\", OneHotEncoder()),\n",
        "                            ]\n",
        "                        ),\n",
        "                    )\n",
        "                ]\n",
        "                + [\n",
        "                    (\n",
        "                        \"numerical_features\",\n",
        "                        Pipeline(\n",
        "                            [\n",
        "                                (\"selector\", ItemSelector(key=numerical_features)),\n",
        "                                (\"scalar\", MinMaxScaler()),\n",
        "                            ]\n",
        "                        ),\n",
        "                    )\n",
        "                ]\n",
        "            ),\n",
        "        ),\n",
        "        (\"logistic\", LogisticRegression(random_state=seed, max_iter=500)),\n",
        "    ]\n",
        ")\n",
        "grid_logreg = GridSearchCV(estimator= classifier, param_grid=params,scoring='f1',cv=5)\n",
        "\n",
        "# Entraînement de l'algorithme\n",
        "logreg_model = grid_logreg.fit(churn_train, churn_train[target])\n",
        "\n",
        "# Meilleur score et meilleur hyperparamètre\n",
        "\n",
        "print(round(logreg_model.best_score_, 3))\n",
        "\n",
        "print(logreg_model.best_estimator_)"
      ],
      "execution_count": 28,
      "outputs": [
        {
          "output_type": "stream",
          "text": [
            "0.772\n",
            "Pipeline(memory=None,\n",
            "         steps=[('union',\n",
            "                 FeatureUnion(n_jobs=None,\n",
            "                              transformer_list=[('categorical_features',\n",
            "                                                 Pipeline(memory=None,\n",
            "                                                          steps=[('selector',\n",
            "                                                                  ItemSelector(key=['gender',\n",
            "                                                                                    'SeniorCitizen',\n",
            "                                                                                    'Partner',\n",
            "                                                                                    'Dependents',\n",
            "                                                                                    'PhoneService',\n",
            "                                                                                    'MultipleLines',\n",
            "                                                                                    'InternetService',\n",
            "                                                                                    'OnlineSecurity',\n",
            "                                                                                    'OnlineBackup',\n",
            "                                                                                    'DeviceProtection',\n",
            "                                                                                    'TechSupport',\n",
            "                                                                                    'StreamingTV',\n",
            "                                                                                    'StreamingMo...\n",
            "                                                                  MinMaxScaler(copy=True,\n",
            "                                                                               feature_range=(0,\n",
            "                                                                                              1)))],\n",
            "                                                          verbose=False))],\n",
            "                              transformer_weights=None, verbose=False)),\n",
            "                ('logistic',\n",
            "                 LogisticRegression(C=1, class_weight=None, dual=False,\n",
            "                                    fit_intercept=True, intercept_scaling=1,\n",
            "                                    l1_ratio=None, max_iter=500,\n",
            "                                    multi_class='auto', n_jobs=None,\n",
            "                                    penalty='l2', random_state=1111,\n",
            "                                    solver='lbfgs', tol=0.0001, verbose=0,\n",
            "                                    warm_start=False))],\n",
            "         verbose=False)\n"
          ],
          "name": "stdout"
        }
      ]
    },
    {
      "cell_type": "markdown",
      "metadata": {
        "id": "p6w2btYRM5sw"
      },
      "source": [
        "Le modèle a un bon score d'entraînement. Evaluons sa performance sur les données de validation afin d'apprécier sa capacité à généraliser sur de nouvelles données."
      ]
    },
    {
      "cell_type": "markdown",
      "metadata": {
        "id": "U9oGotnkUAcR"
      },
      "source": [
        "## Evaluation\n",
        "Avec classification_report nous calculons la précision et le recall avec les valeurs réelles et prédites. \n",
        "- Lorsqu'il y a un problème de déséquilibre de classe, la précision globale(accuracy) n'est pas une bonne métrique d'évaluation de la performance du modèle.\n",
        "- precision et recall sont des métriques très utilisées surtout lorsque les classes de la variable cible sont très déséquilibrées.\n",
        "- L'amélioration de precision diminue le recall et vice-versa. Alors que faire ?\n",
        "- Fort heureusement, il y a une métrique qui contient à la fois la sensibilité et la spécificité. C'est le F1 score.\n",
        "- Pour un modèle parfait, f1 score est égal à 1 et la plus mauvaise performance est un modèle avec un f1 score égal à O.\n",
        "- Nous choississons le F1 score pour évaluer la performance de chaque modèle qui sera construit.\n"
      ]
    },
    {
      "cell_type": "code",
      "metadata": {
        "colab": {
          "base_uri": "https://localhost:8080/"
        },
        "id": "h82eaqujyxIu",
        "outputId": "274dd8c9-61a3-4677-fa85-4d328133bf76"
      },
      "source": [
        "# Evaluation\n",
        "pred = logreg_model.best_estimator_.predict(X_val)\n",
        "print(classification_report(X_val[target], pred))"
      ],
      "execution_count": 29,
      "outputs": [
        {
          "output_type": "stream",
          "text": [
            "              precision    recall  f1-score   support\n",
            "\n",
            "           0       0.90      0.76      0.82      1018\n",
            "           1       0.55      0.77      0.64       388\n",
            "\n",
            "    accuracy                           0.76      1406\n",
            "   macro avg       0.72      0.76      0.73      1406\n",
            "weighted avg       0.80      0.76      0.77      1406\n",
            "\n"
          ],
          "name": "stdout"
        }
      ]
    },
    {
      "cell_type": "markdown",
      "metadata": {
        "id": "pVpongFKZ2N2"
      },
      "source": [
        "- Pour la classe 1 (utilisateurs désabonnés), le modèle obtient 0,55 de précision et 0,77 de recall. \n",
        "- La précision nous indique le nombre d'utilisateurs désabonnés que notre classifieur a correctement prédit. \n",
        "- D'autre part, le recall nous indique combien d'utilisateurs désabonnés il a manqué. En termes simples, le classificateur n'est pas très précis pour les utilisateurs désabonnés."
      ]
    },
    {
      "cell_type": "markdown",
      "metadata": {
        "id": "UkipOd3peJCZ"
      },
      "source": [
        "# Modèle Decision Tree Classifier"
      ]
    },
    {
      "cell_type": "code",
      "metadata": {
        "id": "keWso-8hxygv"
      },
      "source": [
        "# Dictionnaire des hyperparamètres\n",
        "params2 = {'DecisionTree__max_depth':[None,1,2],\n",
        "          'DecisionTree__min_samples_split':[2,3,4,5],\n",
        "          'DecisionTree__min_samples_leaf':[1,2,3]}        \n",
        "# GridSearchCV\n",
        "pipeline = Pipeline(\n",
        "    [\n",
        "        (\n",
        "            \"union\",\n",
        "            FeatureUnion(\n",
        "                transformer_list=[\n",
        "                    (\n",
        "                        \"categorical_features\",\n",
        "                        Pipeline(\n",
        "                            [\n",
        "                                (\"selector\", ItemSelector(key=categorical_features)),\n",
        "                                (\"onehot\", OneHotEncoder()),\n",
        "                            ]\n",
        "                        ),\n",
        "                    )\n",
        "                ]\n",
        "                + [\n",
        "                    (\n",
        "                        \"numerical_features\",\n",
        "                        Pipeline(\n",
        "                            [\n",
        "                                (\"selector\", ItemSelector(key=numerical_features)),\n",
        "                                (\"scalar\", MinMaxScaler()),\n",
        "                            ]\n",
        "                        ),\n",
        "                    )\n",
        "                ]\n",
        "            ),\n",
        "        ),\n",
        "              (\"DecisionTree\", tree.DecisionTreeClassifier(random_state=42))\n",
        "    ]\n",
        ")"
      ],
      "execution_count": 38,
      "outputs": []
    },
    {
      "cell_type": "code",
      "metadata": {
        "colab": {
          "base_uri": "https://localhost:8080/"
        },
        "id": "r28ZLbfziSh1",
        "outputId": "f157ee03-1790-4328-a10a-bb16bd4acd38"
      },
      "source": [
        "Decision_tree = GridSearchCV(estimator= pipeline, param_grid=params2,scoring='f1',cv=5)\n",
        "\n",
        "# Entraînement de l'algorithme\n",
        "Decision_tree_model = Decision_tree.fit(churn_train, churn_train[target])\n",
        "\n",
        "# Meilleur score et meilleur hyperparamètre\n",
        "\n",
        "print(round(Decision_tree_model.best_score_, 3))\n",
        "\n",
        "print(Decision_tree_model.best_estimator_)"
      ],
      "execution_count": 39,
      "outputs": [
        {
          "output_type": "stream",
          "text": [
            "0.88\n",
            "Pipeline(memory=None,\n",
            "         steps=[('union',\n",
            "                 FeatureUnion(n_jobs=None,\n",
            "                              transformer_list=[('categorical_features',\n",
            "                                                 Pipeline(memory=None,\n",
            "                                                          steps=[('selector',\n",
            "                                                                  ItemSelector(key=['gender',\n",
            "                                                                                    'SeniorCitizen',\n",
            "                                                                                    'Partner',\n",
            "                                                                                    'Dependents',\n",
            "                                                                                    'PhoneService',\n",
            "                                                                                    'MultipleLines',\n",
            "                                                                                    'InternetService',\n",
            "                                                                                    'OnlineSecurity',\n",
            "                                                                                    'OnlineBackup',\n",
            "                                                                                    'DeviceProtection',\n",
            "                                                                                    'TechSupport',\n",
            "                                                                                    'StreamingTV',\n",
            "                                                                                    'StreamingMo...\n",
            "                              transformer_weights=None, verbose=False)),\n",
            "                ('DecisionTree',\n",
            "                 DecisionTreeClassifier(ccp_alpha=0.0, class_weight=None,\n",
            "                                        criterion='gini', max_depth=None,\n",
            "                                        max_features=None, max_leaf_nodes=None,\n",
            "                                        min_impurity_decrease=0.0,\n",
            "                                        min_impurity_split=None,\n",
            "                                        min_samples_leaf=1, min_samples_split=2,\n",
            "                                        min_weight_fraction_leaf=0.0,\n",
            "                                        presort='deprecated', random_state=42,\n",
            "                                        splitter='best'))],\n",
            "         verbose=False)\n"
          ],
          "name": "stdout"
        }
      ]
    },
    {
      "cell_type": "code",
      "metadata": {
        "colab": {
          "base_uri": "https://localhost:8080/"
        },
        "id": "Wmj1VXPzmP_p",
        "outputId": "7daf0128-b736-405c-cf92-9c30573fa515"
      },
      "source": [
        "# Evaluation\n",
        "pred2 = Decision_tree_model.best_estimator_.predict(X_val)\n",
        "print(classification_report(X_val[target], pred2))"
      ],
      "execution_count": 41,
      "outputs": [
        {
          "output_type": "stream",
          "text": [
            "              precision    recall  f1-score   support\n",
            "\n",
            "           0       0.80      0.82      0.81      1018\n",
            "           1       0.50      0.47      0.48       388\n",
            "\n",
            "    accuracy                           0.72      1406\n",
            "   macro avg       0.65      0.65      0.65      1406\n",
            "weighted avg       0.72      0.72      0.72      1406\n",
            "\n"
          ],
          "name": "stdout"
        }
      ]
    },
    {
      "cell_type": "markdown",
      "metadata": {
        "id": "XnfyikCRrDqj"
      },
      "source": [
        "- La précision et le recall et le f1-score se détoriorent ici.\n",
        "- Le model logistique reste le meilleur à ce stade."
      ]
    },
    {
      "cell_type": "code",
      "metadata": {
        "colab": {
          "base_uri": "https://localhost:8080/"
        },
        "id": "yxIaC10avFV_",
        "outputId": "a15c75a0-298a-4467-9ef2-6967990ccaa1"
      },
      "source": [
        "# test\n",
        "pred3 = logreg_model.best_estimator_.predict(X_test)\n",
        "print(classification_report(X_test[target], pred3))"
      ],
      "execution_count": 46,
      "outputs": [
        {
          "output_type": "stream",
          "text": [
            "              precision    recall  f1-score   support\n",
            "\n",
            "           0       0.92      0.76      0.83      1046\n",
            "           1       0.53      0.80      0.64       361\n",
            "\n",
            "    accuracy                           0.77      1407\n",
            "   macro avg       0.73      0.78      0.74      1407\n",
            "weighted avg       0.82      0.77      0.78      1407\n",
            "\n"
          ],
          "name": "stdout"
        }
      ]
    },
    {
      "cell_type": "code",
      "metadata": {
        "colab": {
          "base_uri": "https://localhost:8080/",
          "height": 591
        },
        "id": "1e6XaUtivya-",
        "outputId": "5d64133f-03c3-4b36-d5d7-7495292ac241"
      },
      "source": [
        "# Les abonnés à fédéliser\n",
        "ToFidelisize = pred3==1\n",
        "X_test[ToFidelisize]"
      ],
      "execution_count": 49,
      "outputs": [
        {
          "output_type": "execute_result",
          "data": {
            "text/html": [
              "<div>\n",
              "<style scoped>\n",
              "    .dataframe tbody tr th:only-of-type {\n",
              "        vertical-align: middle;\n",
              "    }\n",
              "\n",
              "    .dataframe tbody tr th {\n",
              "        vertical-align: top;\n",
              "    }\n",
              "\n",
              "    .dataframe thead th {\n",
              "        text-align: right;\n",
              "    }\n",
              "</style>\n",
              "<table border=\"1\" class=\"dataframe\">\n",
              "  <thead>\n",
              "    <tr style=\"text-align: right;\">\n",
              "      <th></th>\n",
              "      <th>customerID</th>\n",
              "      <th>gender</th>\n",
              "      <th>SeniorCitizen</th>\n",
              "      <th>Partner</th>\n",
              "      <th>Dependents</th>\n",
              "      <th>tenure</th>\n",
              "      <th>PhoneService</th>\n",
              "      <th>MultipleLines</th>\n",
              "      <th>InternetService</th>\n",
              "      <th>OnlineSecurity</th>\n",
              "      <th>OnlineBackup</th>\n",
              "      <th>DeviceProtection</th>\n",
              "      <th>TechSupport</th>\n",
              "      <th>StreamingTV</th>\n",
              "      <th>StreamingMovies</th>\n",
              "      <th>Contract</th>\n",
              "      <th>PaperlessBilling</th>\n",
              "      <th>PaymentMethod</th>\n",
              "      <th>MonthlyCharges</th>\n",
              "      <th>TotalCharges</th>\n",
              "      <th>Churn</th>\n",
              "    </tr>\n",
              "  </thead>\n",
              "  <tbody>\n",
              "    <tr>\n",
              "      <th>5173</th>\n",
              "      <td>2480-SQIOB</td>\n",
              "      <td>1</td>\n",
              "      <td>0</td>\n",
              "      <td>1</td>\n",
              "      <td>1</td>\n",
              "      <td>4</td>\n",
              "      <td>1</td>\n",
              "      <td>0</td>\n",
              "      <td>0</td>\n",
              "      <td>0</td>\n",
              "      <td>0</td>\n",
              "      <td>0</td>\n",
              "      <td>0</td>\n",
              "      <td>0</td>\n",
              "      <td>0</td>\n",
              "      <td>0</td>\n",
              "      <td>0</td>\n",
              "      <td>2</td>\n",
              "      <td>44.80</td>\n",
              "      <td>13.024976</td>\n",
              "      <td>0</td>\n",
              "    </tr>\n",
              "    <tr>\n",
              "      <th>3527</th>\n",
              "      <td>3746-EUBYR</td>\n",
              "      <td>1</td>\n",
              "      <td>0</td>\n",
              "      <td>1</td>\n",
              "      <td>0</td>\n",
              "      <td>1</td>\n",
              "      <td>1</td>\n",
              "      <td>2</td>\n",
              "      <td>1</td>\n",
              "      <td>0</td>\n",
              "      <td>0</td>\n",
              "      <td>0</td>\n",
              "      <td>0</td>\n",
              "      <td>0</td>\n",
              "      <td>0</td>\n",
              "      <td>0</td>\n",
              "      <td>1</td>\n",
              "      <td>0</td>\n",
              "      <td>74.60</td>\n",
              "      <td>8.637129</td>\n",
              "      <td>1</td>\n",
              "    </tr>\n",
              "    <tr>\n",
              "      <th>3664</th>\n",
              "      <td>6257-RJOHI</td>\n",
              "      <td>1</td>\n",
              "      <td>0</td>\n",
              "      <td>0</td>\n",
              "      <td>0</td>\n",
              "      <td>4</td>\n",
              "      <td>1</td>\n",
              "      <td>0</td>\n",
              "      <td>0</td>\n",
              "      <td>0</td>\n",
              "      <td>0</td>\n",
              "      <td>0</td>\n",
              "      <td>2</td>\n",
              "      <td>0</td>\n",
              "      <td>0</td>\n",
              "      <td>0</td>\n",
              "      <td>1</td>\n",
              "      <td>3</td>\n",
              "      <td>50.80</td>\n",
              "      <td>14.223220</td>\n",
              "      <td>0</td>\n",
              "    </tr>\n",
              "    <tr>\n",
              "      <th>2555</th>\n",
              "      <td>1849-RJYIG</td>\n",
              "      <td>0</td>\n",
              "      <td>0</td>\n",
              "      <td>0</td>\n",
              "      <td>0</td>\n",
              "      <td>8</td>\n",
              "      <td>1</td>\n",
              "      <td>0</td>\n",
              "      <td>0</td>\n",
              "      <td>2</td>\n",
              "      <td>0</td>\n",
              "      <td>0</td>\n",
              "      <td>0</td>\n",
              "      <td>2</td>\n",
              "      <td>0</td>\n",
              "      <td>0</td>\n",
              "      <td>1</td>\n",
              "      <td>2</td>\n",
              "      <td>60.00</td>\n",
              "      <td>22.085063</td>\n",
              "      <td>0</td>\n",
              "    </tr>\n",
              "    <tr>\n",
              "      <th>2634</th>\n",
              "      <td>6877-TJMBR</td>\n",
              "      <td>1</td>\n",
              "      <td>0</td>\n",
              "      <td>1</td>\n",
              "      <td>0</td>\n",
              "      <td>1</td>\n",
              "      <td>1</td>\n",
              "      <td>0</td>\n",
              "      <td>1</td>\n",
              "      <td>0</td>\n",
              "      <td>0</td>\n",
              "      <td>0</td>\n",
              "      <td>2</td>\n",
              "      <td>2</td>\n",
              "      <td>0</td>\n",
              "      <td>0</td>\n",
              "      <td>1</td>\n",
              "      <td>2</td>\n",
              "      <td>84.80</td>\n",
              "      <td>9.208692</td>\n",
              "      <td>1</td>\n",
              "    </tr>\n",
              "    <tr>\n",
              "      <th>...</th>\n",
              "      <td>...</td>\n",
              "      <td>...</td>\n",
              "      <td>...</td>\n",
              "      <td>...</td>\n",
              "      <td>...</td>\n",
              "      <td>...</td>\n",
              "      <td>...</td>\n",
              "      <td>...</td>\n",
              "      <td>...</td>\n",
              "      <td>...</td>\n",
              "      <td>...</td>\n",
              "      <td>...</td>\n",
              "      <td>...</td>\n",
              "      <td>...</td>\n",
              "      <td>...</td>\n",
              "      <td>...</td>\n",
              "      <td>...</td>\n",
              "      <td>...</td>\n",
              "      <td>...</td>\n",
              "      <td>...</td>\n",
              "      <td>...</td>\n",
              "    </tr>\n",
              "    <tr>\n",
              "      <th>6169</th>\n",
              "      <td>4847-QNOKA</td>\n",
              "      <td>0</td>\n",
              "      <td>0</td>\n",
              "      <td>0</td>\n",
              "      <td>0</td>\n",
              "      <td>1</td>\n",
              "      <td>1</td>\n",
              "      <td>0</td>\n",
              "      <td>0</td>\n",
              "      <td>0</td>\n",
              "      <td>0</td>\n",
              "      <td>0</td>\n",
              "      <td>0</td>\n",
              "      <td>0</td>\n",
              "      <td>0</td>\n",
              "      <td>0</td>\n",
              "      <td>1</td>\n",
              "      <td>0</td>\n",
              "      <td>44.90</td>\n",
              "      <td>6.700746</td>\n",
              "      <td>1</td>\n",
              "    </tr>\n",
              "    <tr>\n",
              "      <th>3328</th>\n",
              "      <td>1640-PLFMP</td>\n",
              "      <td>0</td>\n",
              "      <td>0</td>\n",
              "      <td>0</td>\n",
              "      <td>0</td>\n",
              "      <td>1</td>\n",
              "      <td>1</td>\n",
              "      <td>0</td>\n",
              "      <td>1</td>\n",
              "      <td>0</td>\n",
              "      <td>0</td>\n",
              "      <td>0</td>\n",
              "      <td>0</td>\n",
              "      <td>0</td>\n",
              "      <td>0</td>\n",
              "      <td>0</td>\n",
              "      <td>1</td>\n",
              "      <td>2</td>\n",
              "      <td>70.25</td>\n",
              "      <td>8.381527</td>\n",
              "      <td>0</td>\n",
              "    </tr>\n",
              "    <tr>\n",
              "      <th>4327</th>\n",
              "      <td>0958-YHXGP</td>\n",
              "      <td>0</td>\n",
              "      <td>0</td>\n",
              "      <td>0</td>\n",
              "      <td>0</td>\n",
              "      <td>7</td>\n",
              "      <td>1</td>\n",
              "      <td>0</td>\n",
              "      <td>1</td>\n",
              "      <td>0</td>\n",
              "      <td>0</td>\n",
              "      <td>0</td>\n",
              "      <td>0</td>\n",
              "      <td>0</td>\n",
              "      <td>0</td>\n",
              "      <td>0</td>\n",
              "      <td>1</td>\n",
              "      <td>3</td>\n",
              "      <td>69.90</td>\n",
              "      <td>22.300224</td>\n",
              "      <td>0</td>\n",
              "    </tr>\n",
              "    <tr>\n",
              "      <th>2471</th>\n",
              "      <td>1323-OOEPC</td>\n",
              "      <td>0</td>\n",
              "      <td>0</td>\n",
              "      <td>1</td>\n",
              "      <td>0</td>\n",
              "      <td>53</td>\n",
              "      <td>1</td>\n",
              "      <td>2</td>\n",
              "      <td>1</td>\n",
              "      <td>0</td>\n",
              "      <td>2</td>\n",
              "      <td>0</td>\n",
              "      <td>0</td>\n",
              "      <td>2</td>\n",
              "      <td>2</td>\n",
              "      <td>0</td>\n",
              "      <td>1</td>\n",
              "      <td>1</td>\n",
              "      <td>98.40</td>\n",
              "      <td>71.760017</td>\n",
              "      <td>1</td>\n",
              "    </tr>\n",
              "    <tr>\n",
              "      <th>1050</th>\n",
              "      <td>1271-SJBGZ</td>\n",
              "      <td>1</td>\n",
              "      <td>1</td>\n",
              "      <td>0</td>\n",
              "      <td>0</td>\n",
              "      <td>12</td>\n",
              "      <td>0</td>\n",
              "      <td>1</td>\n",
              "      <td>0</td>\n",
              "      <td>0</td>\n",
              "      <td>0</td>\n",
              "      <td>2</td>\n",
              "      <td>2</td>\n",
              "      <td>0</td>\n",
              "      <td>2</td>\n",
              "      <td>0</td>\n",
              "      <td>1</td>\n",
              "      <td>2</td>\n",
              "      <td>43.65</td>\n",
              "      <td>22.955392</td>\n",
              "      <td>1</td>\n",
              "    </tr>\n",
              "  </tbody>\n",
              "</table>\n",
              "<p>544 rows × 21 columns</p>\n",
              "</div>"
            ],
            "text/plain": [
              "      customerID  gender  SeniorCitizen  ...  MonthlyCharges  TotalCharges  Churn\n",
              "5173  2480-SQIOB       1              0  ...           44.80     13.024976      0\n",
              "3527  3746-EUBYR       1              0  ...           74.60      8.637129      1\n",
              "3664  6257-RJOHI       1              0  ...           50.80     14.223220      0\n",
              "2555  1849-RJYIG       0              0  ...           60.00     22.085063      0\n",
              "2634  6877-TJMBR       1              0  ...           84.80      9.208692      1\n",
              "...          ...     ...            ...  ...             ...           ...    ...\n",
              "6169  4847-QNOKA       0              0  ...           44.90      6.700746      1\n",
              "3328  1640-PLFMP       0              0  ...           70.25      8.381527      0\n",
              "4327  0958-YHXGP       0              0  ...           69.90     22.300224      0\n",
              "2471  1323-OOEPC       0              0  ...           98.40     71.760017      1\n",
              "1050  1271-SJBGZ       1              1  ...           43.65     22.955392      1\n",
              "\n",
              "[544 rows x 21 columns]"
            ]
          },
          "metadata": {
            "tags": []
          },
          "execution_count": 49
        }
      ]
    },
    {
      "cell_type": "markdown",
      "metadata": {
        "id": "3RHiE5zmxEQ2"
      },
      "source": [
        "- Liste des abonnés qui sont susceptibles de se désabonnées et vers qui la compagnie devrait faire des publicités ciblées question de les fidéliser."
      ]
    },
    {
      "cell_type": "code",
      "metadata": {
        "id": "rJBUnZGuxcu3"
      },
      "source": [
        ""
      ],
      "execution_count": null,
      "outputs": []
    }
  ]
}